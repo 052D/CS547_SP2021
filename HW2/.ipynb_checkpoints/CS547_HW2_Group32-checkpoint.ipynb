{
 "cells": [
  {
   "cell_type": "markdown",
   "id": "egyptian-simpson",
   "metadata": {
    "ExecuteTime": {
     "end_time": "2021-02-11T03:18:30.970611Z",
     "start_time": "2021-02-11T03:18:30.957645Z"
    }
   },
   "source": [
    "**CS547 HW2**  \n",
    "Yue Cui (yuecui2)  \n",
    "Gaoyu Liu (gliu18)\n",
    "\n",
    "Colab link:  \n",
    "https://colab.research.google.com/github/052D/CS547_SP2021/blob/main/HW2/CS547_HW2_Group32.ipynb?authuser=1"
   ]
  },
  {
   "cell_type": "markdown",
   "id": "numerous-arbitration",
   "metadata": {},
   "source": [
    "# Problem 1"
   ]
  },
  {
   "cell_type": "markdown",
   "id": "vital-prisoner",
   "metadata": {},
   "source": [
    "$$\n",
    "H(p',p) = p'\\ln \\frac{p'}{p}+(1-p')\\ln \\frac{1-p'}{1-p}\n",
    "$$\n",
    "\n",
    "Take the derivative of $H(p', p)$ w.r.t $p'$:\n",
    "\n",
    "$$\n",
    "\\frac{\\partial H}{\\partial p'} = \n",
    "\\ln(\\frac{p'}{p}) + p' \\cdot \\frac{p'}{p} \\cdot \\frac{1}{p}\n",
    "- \\ln \\frac{1 - p'}{1 - p} + (1 - p') \\cdot \\frac{1 - p}{1 - p'} \\cdot \\frac{-1}{1 - p} \\\\\n",
    "\\frac{\\partial H}{\\partial p'} = \\ln \\frac{p'}{p} - \\ln \\frac{1 - p'}{1 - p}\n",
    "$$\n",
    "\n",
    "Now, compute the second order derivitaive of $H(p', p)$ w.r.t $p'$:\n",
    "\n",
    "$$\n",
    "\\frac{\\partial^2 H}{\\partial p'^2} = \n",
    "\\frac{p}{p'} \\cdot \\frac{1}{p} -\n",
    "\\frac{1 - p}{1 - p'} \\cdot \\frac{-1}{1 - p} \\\\\n",
    "= \\frac{1}{p'} + \\frac{1}{1 - p'} > 0\n",
    "$$\n",
    "\n",
    "Since the second order derivitaive of $H(p', p)$ w.r.t $p'$ is strictly positive, $p' \\mapsto H(p',p)$ is **convex** for $p \\in (0, 1)$."
   ]
  },
  {
   "cell_type": "markdown",
   "id": "matched-referral",
   "metadata": {},
   "source": [
    "# Problem 2"
   ]
  },
  {
   "cell_type": "markdown",
   "id": "pretty-player",
   "metadata": {},
   "source": [
    "Take the first derivative of $f(\\theta)=\\theta p'-\\ln\\{pe^{\\theta}+(1-p)\\}$ with respect to $\\theta$, we have:\n",
    "\n",
    "$$\n",
    "\\frac{df(\\theta)}{d\\theta}=p'-\\frac{pe^{\\theta}}{pe^{\\theta}+(1-p)}\n",
    "$$\n",
    "\n",
    "To find $\\theta$ that maximize $f(\\theta)$, we set $\\frac{df(\\theta)}{d\\theta}=0$, hence:\n",
    "\n",
    "$$\n",
    "p'-\\frac{pe^{\\theta}}{pe^{\\theta}+(1-p)}=0 \\\\\n",
    "p'pe^{\\theta}+p'(1-p)=pe^{\\theta} \\\\\n",
    "(p'p-p)e^{\\theta}=-p'(1-p) \\\\\n",
    "e^{\\theta}=\\frac{p'-pp'}{p-p'p} \\\\\n",
    "\\theta=\\ln\\frac{p'-pp'}{p-pp'}\n",
    "$$\n",
    "\n",
    "Now substitute $\\theta=\\ln\\frac{p'-pp'}{p-p'p}$ back to $f(\\theta)$:\n",
    "\n",
    "$$\n",
    "\\max_{\\theta \\in R} \\{ \\theta p'-\\ln \\{ pe^\\theta+(1-p)\\} \\}=p'\\ln\\frac{p'-pp'}{p-pp'}-\\ln\\{ pe^{\\ln\\frac{p'-pp'}{p-pp'}}+(1-p) \\} \\\\\n",
    "= p'\\ln\\frac{p'(1-p)}{p(1-p')}-\\ln\\{ p\\frac{p'-pp'}{p-pp'}+(1-p) \\} \\\\\n",
    "= p'(\\ln\\frac{p'}{p}+\\ln\\frac{1-p}{1-p'})-\\ln\\{ \\frac{p(p'-pp')+(p-pp')(1-p)}{p-pp'} \\} \\\\\n",
    "=p'\\ln\\frac{p'}{p}+p'\\ln\\frac{1-p}{1-p'}-\\ln\\frac{1-p}{1-p'} \\\\\n",
    "=p'\\ln\\frac{p'}{p}+(1-p')\\ln\\frac{1-p'}{1-p}\n",
    "$$\n",
    "\n",
    "The result gives the **entropy function**. Therefore, it is verified that the Legendre-Fenchel transform of the logarithm of the moment generating function of a Bernoulli random variable $\\ln \\{ pe^\\theta+(1-p)\\}$ indeed is the entropy function."
   ]
  },
  {
   "cell_type": "markdown",
   "id": "residential-least",
   "metadata": {},
   "source": [
    "# Problem 3"
   ]
  },
  {
   "cell_type": "code",
   "execution_count": 155,
   "id": "revised-mainland",
   "metadata": {
    "ExecuteTime": {
     "end_time": "2021-02-14T04:39:30.092075Z",
     "start_time": "2021-02-14T04:39:29.145435Z"
    }
   },
   "outputs": [
    {
     "name": "stdout",
     "output_type": "stream",
     "text": [
      "PyTorch Version: 1.7.1\n",
      "\n",
      "Python 3.7.9 (default, Aug 31 2020, 17:10:11) [MSC v.1916 64 bit (AMD64)]\n",
      "Pandas 1.2.1\n",
      "Scikit-Learn 0.23.2\n",
      "GPU is available\n"
     ]
    }
   ],
   "source": [
    "# What version of Python do you have?\n",
    "import sys\n",
    "\n",
    "import torch\n",
    "import pandas as pd\n",
    "import sklearn as sk\n",
    "import numpy as np\n",
    "import matplotlib\n",
    "#%matplotlib notebook\n",
    "import matplotlib.pyplot as plt\n",
    "\n",
    "\n",
    "print(f\"PyTorch Version: {torch.__version__}\")\n",
    "print()\n",
    "print(f\"Python {sys.version}\")\n",
    "print(f\"Pandas {pd.__version__}\")\n",
    "print(f\"Scikit-Learn {sk.__version__}\")\n",
    "print(\"GPU is\", \"available\" if torch.cuda.is_available() else \"NOT AVAILABLE\")"
   ]
  },
  {
   "cell_type": "markdown",
   "id": "lined-property",
   "metadata": {},
   "source": [
    "Generate the data."
   ]
  },
  {
   "cell_type": "code",
   "execution_count": 32,
   "id": "waiting-horse",
   "metadata": {
    "ExecuteTime": {
     "end_time": "2021-02-11T15:23:36.718724Z",
     "start_time": "2021-02-11T15:23:36.709747Z"
    }
   },
   "outputs": [],
   "source": [
    "# generate 200 Gausian points\n",
    "torch.manual_seed(1)\n",
    "N = 200\n",
    "\n",
    "data_input = torch.Tensor(N, 1).normal_(mean = 0., std = 1.)\n",
    "#print(data_input)\n",
    "\n",
    "labels_input = (data_input > 0).float()\n",
    "#print(labels_input)\n",
    "\n",
    "# check for GPU\n",
    "if torch.cuda.is_available():\n",
    "    data_input = data_input.cuda()\n",
    "    labels_input = labels_input.cuda()"
   ]
  },
  {
   "cell_type": "markdown",
   "id": "integrated-softball",
   "metadata": {},
   "source": [
    "## (1) "
   ]
  },
  {
   "cell_type": "markdown",
   "id": "expected-worth",
   "metadata": {
    "ExecuteTime": {
     "end_time": "2021-02-11T05:50:55.313103Z",
     "start_time": "2021-02-11T05:50:55.296803Z"
    }
   },
   "source": [
    "Define the class **LogisticRegression** using Pytorch. The Sigmoid function \n",
    "\n",
    "$$\n",
    "S_{m, b}\\ (X) = \\frac{e^{mX+b}}{1 + e^{mX+b}}\n",
    "$$\n",
    "\n",
    "is used and a entropy function for binary classification problem is adopted, namely, **torch.nn.BCEWithLogitsLoss**.  \n",
    "\n",
    "For each training sample, the input $X$ is a scalar with dimension 1, the output $z$ is also a scalar with dimension of 1.  \n",
    "\n",
    "The learning rate is set to be 0.1."
   ]
  },
  {
   "cell_type": "code",
   "execution_count": 139,
   "id": "vulnerable-bobby",
   "metadata": {
    "ExecuteTime": {
     "end_time": "2021-02-14T04:21:29.074510Z",
     "start_time": "2021-02-14T04:21:29.049579Z"
    }
   },
   "outputs": [],
   "source": [
    "class LogisticRegression(torch.nn.Module):\n",
    "    def __init__(self, input_size, num_classes):\n",
    "        super(LogisticRegression, self).__init__()\n",
    "        # https://pytorch.org/docs/stable/generated/torch.nn.Linear.html\n",
    "        self.linear = torch.nn.Linear(input_size, num_classes)\n",
    "\n",
    "    def forward(self, x):\n",
    "        out = self.linear(x)\n",
    "        return out\n",
    "\n",
    "\n",
    "    \n",
    "# flip n*2 points as needed (for (2) and (3))\n",
    "def flip_n(data, labels, n):\n",
    "    if n == 0:\n",
    "        return labels.clone()\n",
    "    # get the assending sorted indices\n",
    "    sort_idx = data.argsort(dim=0)\n",
    "    # get the total number of negative numbers\n",
    "    num_neg = sum(data < 0)\n",
    "    # get the indices to flip the labels\n",
    "    flip_idx_neg = sort_idx[num_neg - n: num_neg]\n",
    "    flip_idx_pos = sort_idx[num_neg: num_neg + n]\n",
    "    # carry out the label flipping\n",
    "    labels_res = labels.clone()\n",
    "    labels_res[flip_idx_neg] = 1.\n",
    "    labels_res[flip_idx_pos] = 0.\n",
    "    # return the result\n",
    "    return labels_res\n",
    "\n",
    "\n",
    "\n",
    "def Carryout_logi_regression(data_input,\n",
    "                             labels_input,\n",
    "                             n=0,\n",
    "                             lr=.1, max_iter=10000,\n",
    "                             ):\n",
    "    # process the labels\n",
    "    labels_n = flip_n(data_input, labels_input, n)\n",
    "\n",
    "    # instantiate the model object\n",
    "    input_dim = 1  # data_raw.size()[0]\n",
    "    num_classes = 1\n",
    "\n",
    "    model = LogisticRegression(input_dim, num_classes)\n",
    "    if torch.cuda.is_available():\n",
    "        model.cuda()\n",
    "\n",
    "    #Loss = torch.nn.CrossEntropyLoss()\n",
    "    # https://pytorch.org/docs/stable/generated/torch.nn.BCEWithLogitsLoss.html\n",
    "    Loss = torch.nn.BCEWithLogitsLoss(reduction='mean')\n",
    "\n",
    "    learningRate = lr\n",
    "    optimizer = torch.optim.SGD(model.parameters(), lr=learningRate)\n",
    "\n",
    "    for itr in range(max_iter):\n",
    "        # Clear gradient buffers because we don't want any gradient from previous epoch to carry forward,\n",
    "        # dont want to cummulate gradients\n",
    "        optimizer.zero_grad()\n",
    "\n",
    "        # get output from the model, given the inputs\n",
    "        outputs = model(data_input)\n",
    "        # print(outputs.size())\n",
    "        # print(labels_input.size())\n",
    "\n",
    "        # get loss for the predicted output\n",
    "        lossvalue = Loss(outputs, labels_n)\n",
    "\n",
    "        # get gradients w.r.t to parameters\n",
    "        lossvalue.backward()\n",
    "        # print(model.linear.weight.grad.item(),model.linear.bias.grad.item())\n",
    "\n",
    "        # update parameters\n",
    "        optimizer.step()\n",
    "        if itr % 10000 == 0:\n",
    "            print(\"iteration {}: loss={:.5f}, width={:.5f} \".format(itr, lossvalue.item(),\n",
    "                                                                    1/model.linear.weight.item()))\n",
    "    #\n",
    "    print(f'The width of the transition layer for the model with {n} points\\n',\n",
    "        f'flipped on each side of 0 is {1/model.linear.weight.item():.5f}')\n",
    "    print(f'===============================================\\n')\n",
    "    \n",
    "    return 1/model.linear.weight.item()"
   ]
  },
  {
   "cell_type": "markdown",
   "id": "detailed-impression",
   "metadata": {
    "ExecuteTime": {
     "end_time": "2021-02-11T06:13:45.693317Z",
     "start_time": "2021-02-11T06:13:45.674370Z"
    }
   },
   "source": [
    "Now carry out the logistic regression."
   ]
  },
  {
   "cell_type": "code",
   "execution_count": 140,
   "id": "acting-equipment",
   "metadata": {
    "ExecuteTime": {
     "end_time": "2021-02-14T04:22:42.491879Z",
     "start_time": "2021-02-14T04:21:46.226968Z"
    },
    "scrolled": false
   },
   "outputs": [
    {
     "name": "stdout",
     "output_type": "stream",
     "text": [
      "iteration 0: loss=0.45614, width=1.14401 \n",
      "iteration 10000: loss=0.05049, width=0.08269 \n",
      "iteration 20000: loss=0.03935, width=0.06494 \n",
      "iteration 30000: loss=0.03399, width=0.05647 \n",
      "iteration 40000: loss=0.03065, width=0.05120 \n",
      "iteration 50000: loss=0.02831, width=0.04748 \n",
      "iteration 60000: loss=0.02654, width=0.04466 \n",
      "iteration 70000: loss=0.02514, width=0.04242 \n",
      "iteration 80000: loss=0.02399, width=0.04058 \n",
      "iteration 90000: loss=0.02303, width=0.03903 \n",
      "The width of the transition layer for the model with 0 points\n",
      " flipped on each side of 0 is 0.03770\n",
      "===============================================\n",
      "\n"
     ]
    }
   ],
   "source": [
    "width_0 = Carryout_logi_regression(data_input,\n",
    "                                   labels_input,\n",
    "                                   n=0,\n",
    "                                   lr=0.1, max_iter=100000,\n",
    "                                   )"
   ]
  },
  {
   "cell_type": "code",
   "execution_count": 146,
   "id": "composed-symphony",
   "metadata": {
    "ExecuteTime": {
     "end_time": "2021-02-14T04:27:54.361621Z",
     "start_time": "2021-02-14T04:27:54.341660Z"
    }
   },
   "outputs": [
    {
     "data": {
      "text/plain": [
       "array([0.03769566])"
      ]
     },
     "metadata": {},
     "output_type": "display_data"
    }
   ],
   "source": [
    "width_result = np.array([])\n",
    "width_result = np.append(width_result, width_0)\n",
    "display(width_result)"
   ]
  },
  {
   "cell_type": "markdown",
   "id": "productive-audit",
   "metadata": {},
   "source": [
    "## (2)"
   ]
  },
  {
   "cell_type": "code",
   "execution_count": 147,
   "id": "requested-bronze",
   "metadata": {
    "ExecuteTime": {
     "end_time": "2021-02-14T04:29:20.471918Z",
     "start_time": "2021-02-14T04:28:21.694087Z"
    }
   },
   "outputs": [
    {
     "name": "stdout",
     "output_type": "stream",
     "text": [
      "iteration 0: loss=0.68865, width=20.24849 \n",
      "iteration 10000: loss=0.07547, width=0.09068 \n",
      "iteration 20000: loss=0.06993, width=0.07495 \n",
      "iteration 30000: loss=0.06804, width=0.06800 \n",
      "iteration 40000: loss=0.06718, width=0.06399 \n",
      "iteration 50000: loss=0.06673, width=0.06138 \n",
      "iteration 60000: loss=0.06649, width=0.05957 \n",
      "iteration 70000: loss=0.06634, width=0.05826 \n",
      "iteration 80000: loss=0.06626, width=0.05728 \n",
      "iteration 90000: loss=0.06620, width=0.05653 \n",
      "The width of the transition layer for the model with 5 points\n",
      " flipped on each side of 0 is 0.05594\n",
      "===============================================\n",
      "\n"
     ]
    }
   ],
   "source": [
    "width_5 = Carryout_logi_regression(data_input,\n",
    "                                   labels_input,\n",
    "                                   n=5,\n",
    "                                   lr=.1, max_iter=100000,\n",
    "                                   )"
   ]
  },
  {
   "cell_type": "code",
   "execution_count": 148,
   "id": "disturbed-sally",
   "metadata": {
    "ExecuteTime": {
     "end_time": "2021-02-14T04:29:25.235709Z",
     "start_time": "2021-02-14T04:29:25.228728Z"
    }
   },
   "outputs": [
    {
     "data": {
      "text/plain": [
       "array([0.03769566, 0.05594289])"
      ]
     },
     "metadata": {},
     "output_type": "display_data"
    }
   ],
   "source": [
    "width_result = np.append(width_result, width_5)\n",
    "display(width_result)"
   ]
  },
  {
   "cell_type": "markdown",
   "id": "welsh-valley",
   "metadata": {},
   "source": [
    "## (3)"
   ]
  },
  {
   "cell_type": "code",
   "execution_count": 149,
   "id": "exciting-incentive",
   "metadata": {
    "ExecuteTime": {
     "end_time": "2021-02-14T04:34:46.429540Z",
     "start_time": "2021-02-14T04:29:59.975995Z"
    }
   },
   "outputs": [
    {
     "name": "stdout",
     "output_type": "stream",
     "text": [
      "iteration 0: loss=0.96724, width=-1.78957 \n",
      "iteration 10000: loss=0.31989, width=0.59803 \n",
      "iteration 20000: loss=0.26009, width=0.41097 \n",
      "iteration 30000: loss=0.23664, width=0.34307 \n",
      "iteration 40000: loss=0.22399, width=0.30587 \n",
      "iteration 50000: loss=0.21612, width=0.28173 \n",
      "iteration 60000: loss=0.21078, width=0.26453 \n",
      "iteration 70000: loss=0.20696, width=0.25154 \n",
      "iteration 80000: loss=0.20412, width=0.24132 \n",
      "iteration 90000: loss=0.20194, width=0.23302 \n",
      "The width of the transition layer for the model with 15 points\n",
      " flipped on each side of 0 is 0.22614\n",
      "===============================================\n",
      "\n",
      "iteration 0: loss=0.60948, width=3.96420 \n",
      "iteration 10000: loss=0.32823, width=0.55989 \n",
      "iteration 20000: loss=0.28800, width=0.41470 \n",
      "iteration 30000: loss=0.27222, width=0.35635 \n",
      "iteration 40000: loss=0.26411, width=0.32363 \n",
      "iteration 50000: loss=0.25936, width=0.30235 \n",
      "iteration 60000: loss=0.25635, width=0.28732 \n",
      "iteration 70000: loss=0.25435, width=0.27610 \n",
      "iteration 80000: loss=0.25296, width=0.26743 \n",
      "iteration 90000: loss=0.25198, width=0.26052 \n",
      "The width of the transition layer for the model with 20 points\n",
      " flipped on each side of 0 is 0.25491\n",
      "===============================================\n",
      "\n",
      "iteration 0: loss=0.94369, width=-1.96092 \n",
      "iteration 10000: loss=0.37282, width=0.64915 \n",
      "iteration 20000: loss=0.33087, width=0.46021 \n",
      "iteration 30000: loss=0.31761, width=0.39468 \n",
      "iteration 40000: loss=0.31177, width=0.36050 \n",
      "iteration 50000: loss=0.30879, width=0.33947 \n",
      "iteration 60000: loss=0.30714, width=0.32532 \n",
      "iteration 70000: loss=0.30618, width=0.31527 \n",
      "iteration 80000: loss=0.30559, width=0.30786 \n",
      "iteration 90000: loss=0.30523, width=0.30225 \n",
      "The width of the transition layer for the model with 25 points\n",
      " flipped on each side of 0 is 0.29793\n",
      "===============================================\n",
      "\n",
      "iteration 0: loss=1.21433, width=-1.20772 \n",
      "iteration 10000: loss=0.41800, width=0.72365 \n",
      "iteration 20000: loss=0.38264, width=0.51319 \n",
      "iteration 30000: loss=0.37413, width=0.44730 \n",
      "iteration 40000: loss=0.37114, width=0.41544 \n",
      "iteration 50000: loss=0.36991, width=0.39730 \n",
      "iteration 60000: loss=0.36937, width=0.38606 \n",
      "iteration 70000: loss=0.36912, width=0.37875 \n",
      "iteration 80000: loss=0.36900, width=0.37385 \n",
      "iteration 90000: loss=0.36894, width=0.37049 \n",
      "The width of the transition layer for the model with 30 points\n",
      " flipped on each side of 0 is 0.36818\n",
      "===============================================\n",
      "\n",
      "iteration 0: loss=0.74995, width=-5.87976 \n",
      "iteration 10000: loss=0.45199, width=0.73994 \n",
      "iteration 20000: loss=0.43374, width=0.56652 \n",
      "iteration 30000: loss=0.43003, width=0.51176 \n",
      "iteration 40000: loss=0.42903, width=0.48717 \n",
      "iteration 50000: loss=0.42872, width=0.47456 \n",
      "iteration 60000: loss=0.42862, width=0.46767 \n",
      "iteration 70000: loss=0.42859, width=0.46378 \n",
      "iteration 80000: loss=0.42858, width=0.46155 \n",
      "iteration 90000: loss=0.42857, width=0.46027 \n",
      "The width of the transition layer for the model with 35 points\n",
      " flipped on each side of 0 is 0.45954\n",
      "===============================================\n",
      "\n"
     ]
    }
   ],
   "source": [
    "for item in [15, 20, 25, 30, 35]:\n",
    "    width_ = Carryout_logi_regression(data_input,\n",
    "                                      labels_input,\n",
    "                                      n=item,\n",
    "                                      lr=.001, max_iter=100000,\n",
    "                                      )\n",
    "    #\n",
    "    width_result = np.append(width_result, width_)"
   ]
  },
  {
   "cell_type": "markdown",
   "id": "cordless-piano",
   "metadata": {
    "ExecuteTime": {
     "end_time": "2021-02-14T04:37:12.588397Z",
     "start_time": "2021-02-14T04:37:12.570444Z"
    }
   },
   "source": [
    "The transition layer width vs number of points with the 'wrong' label on each side of the origin is ploted below. As the number of 'wrong' label points increases, the trainsition layer width increases, indicating that the training data with the wrong labels make the trained logistic regression model have extended transition layer in which the prediction accuracy may decrease."
   ]
  },
  {
   "cell_type": "code",
   "execution_count": 162,
   "id": "planned-bicycle",
   "metadata": {
    "ExecuteTime": {
     "end_time": "2021-02-14T04:41:40.752451Z",
     "start_time": "2021-02-14T04:41:40.631002Z"
    }
   },
   "outputs": [
    {
     "data": {
      "image/png": "[encoded data removed]",
      "text/plain": [
       "<Figure size 432x288 with 1 Axes>"
      ]
     },
     "metadata": {
      "needs_background": "light"
     },
     "output_type": "display_data"
    }
   ],
   "source": [
    "plt.figure()\n",
    "plt.plot(np.delete(np.arange(0, 40, 5), 2), width_result,\n",
    "         label=\"Width\",\n",
    "         color=\"red\")\n",
    "\n",
    "title = []\n",
    "title.append(\"Transition Layer Width\")\n",
    "plt.title(\"\\n\".join(title))\n",
    "plt.xlabel(\"Number of flipped points on each side of origin\")\n",
    "plt.ylabel(\"1/m\")\n",
    "plt.show()\n",
    "plt.close()"
   ]
  },
  {
   "cell_type": "code",
   "execution_count": null,
   "id": "advisory-jacksonville",
   "metadata": {},
   "outputs": [],
   "source": []
  }
 ],
 "metadata": {
  "kernelspec": {
   "display_name": "Python 3.7.9 (pytorch)",
   "language": "python",
   "name": "pytorch"
  },
  "language_info": {
   "codemirror_mode": {
    "name": "ipython",
    "version": 3
   },
   "file_extension": ".py",
   "mimetype": "text/x-python",
   "name": "python",
   "nbconvert_exporter": "python",
   "pygments_lexer": "ipython3",
   "version": "3.7.9"
  },
  "toc": {
   "base_numbering": 1,
   "nav_menu": {},
   "number_sections": true,
   "sideBar": true,
   "skip_h1_title": false,
   "title_cell": "Table of Contents",
   "title_sidebar": "Contents",
   "toc_cell": false,
   "toc_position": {
    "height": "calc(100% - 180px)",
    "left": "10px",
    "top": "150px",
    "width": "189.531px"
   },
   "toc_section_display": true,
   "toc_window_display": true
  },
  "varInspector": {
   "cols": {
    "lenName": 16,
    "lenType": 16,
    "lenVar": 40
   },
   "kernels_config": {
    "python": {
     "delete_cmd_postfix": "",
     "delete_cmd_prefix": "del ",
     "library": "var_list.py",
     "varRefreshCmd": "print(var_dic_list())"
    },
    "r": {
     "delete_cmd_postfix": ") ",
     "delete_cmd_prefix": "rm(",
     "library": "var_list.r",
     "varRefreshCmd": "cat(var_dic_list()) "
    }
   },
   "oldHeight": 265.30080799999996,
   "position": {
    "height": "40px",
    "left": "849.704px",
    "right": "20px",
    "top": "120px",
    "width": "527.993px"
   },
   "types_to_exclude": [
    "module",
    "function",
    "builtin_function_or_method",
    "instance",
    "_Feature"
   ],
   "varInspector_section_display": "none",
   "window_display": true
  }
 },
 "nbformat": 4,
 "nbformat_minor": 5
}
