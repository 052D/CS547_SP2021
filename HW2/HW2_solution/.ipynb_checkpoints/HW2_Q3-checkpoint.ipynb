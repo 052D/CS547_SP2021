{
 "cells": [
  {
   "cell_type": "code",
   "execution_count": null,
   "metadata": {},
   "outputs": [],
   "source": [
    "import numpy as np\n",
    "import torch\n",
    "import torch.nn as nn\n",
    "import torch.optim as optim\n",
    "import matplotlib.pyplot as plt\n",
    "import time\n",
    "N = 200\n",
    "\n",
    "x = np.random.normal(loc=0,scale=1,size=N)\n",
    "y = np.zeros(N)\n",
    "y[x>0] = 1\n",
    "device = torch.device('cuda' if torch.cuda.is_available() else 'cpu')"
   ]
  },
  {
   "cell_type": "code",
   "execution_count": null,
   "metadata": {},
   "outputs": [],
   "source": [
    "def flip_func(x,y,num_flip):\n",
    "    y = np.copy(y)\n",
    "    select_index_pos = np.random.choice(np.where(x>0)[0],num_flip,replace =False)\n",
    "    select_index_neg = np.random.choice(np.where(x<=0)[0],num_flip,replace =False)\n",
    "    y[select_index_pos] = 0\n",
    "    y[select_index_neg] = 1\n",
    "    return x,y\n",
    "\n",
    "class LogisticRegression(nn.Module):\n",
    "    def __init__(self,input_size=1,output_size=2):\n",
    "        super(LogisticRegression, self).__init__()\n",
    "        self.input_size= input_size\n",
    "        self.output_size = output_size\n",
    "        self.fc = nn.Linear(input_size,output_size)\n",
    "        self.softmax = nn.Softmax(dim=1)\n",
    "    def forward(self,x):\n",
    "        y = self.fc(x)\n",
    "        return self.softmax(y)"
   ]
  },
  {
   "cell_type": "code",
   "execution_count": null,
   "metadata": {},
   "outputs": [],
   "source": [
    "x = np.random.normal(loc=0,scale=1,size=N)\n",
    "y = np.zeros(N)\n",
    "y[x>0] = 1\n",
    "num_flip = 5\n",
    "x_new,y_new = flip_func(x,y,num_flip)\n"
   ]
  },
  {
   "cell_type": "code",
   "execution_count": null,
   "metadata": {},
   "outputs": [],
   "source": [
    "x_tensor = torch.from_numpy(x).float().to(device).unsqueeze(1)\n",
    "y_tensor= torch.from_numpy(y).long().to(device)\n",
    "num_epoch = 10000\n",
    "lr = 0.2\n",
    "\n",
    "model = LogisticRegression(input_size=1,output_size=2)\n",
    "model.to(device)\n",
    "optimizer = optim.SGD(model.parameters(), lr=lr)\n",
    "# scheduler = optim.lr_scheduler.StepLR(optimizer, step_size=10000, gamma=0.2)\n",
    "loss_func = nn.CrossEntropyLoss()\n",
    "for i in range(num_epoch):\n",
    "    optimizer.zero_grad()\n",
    "    pred =model(x_tensor)\n",
    "    loss = loss_func(pred,y_tensor)\n",
    "    loss.backward()\n",
    "    optimizer.step()\n",
    "#     scheduler.step()\n",
    "    if i % 1000 == 0:\n",
    "        print(i,10*'*')\n",
    "        print('a',(model.fc.weight[1]-model.fc.weight[0]).item())\n",
    "        print('b',(model.fc.bias[1]-model.fc.bias[0]).item())\n",
    "        print('loss',loss.item())\n",
    "    \n",
    "    \n"
   ]
  },
  {
   "cell_type": "code",
   "execution_count": null,
   "metadata": {},
   "outputs": [],
   "source": [
    "num_epoch = 10000\n",
    "lr = 0.2\n",
    "num_flip_list = [0,5,10,15,20,25,30,35]\n",
    "width_list = []\n",
    "start_time = time.time()\n",
    "for num_flip in num_flip_list:\n",
    "    x = np.random.normal(loc=0,scale=1,size=N)\n",
    "    y = np.zeros(N)\n",
    "    y[x>0] = 1\n",
    "    x_new,y_new = flip_func(x,y,num_flip)\n",
    "    x_tensor = torch.from_numpy(x_new).float().to(device).unsqueeze(1)\n",
    "    y_tensor= torch.from_numpy(y_new).long().to(device)\n",
    "    \n",
    "    model = LogisticRegression(input_size=1,output_size=2)\n",
    "    model.to(device)\n",
    "    optimizer = optim.SGD(model.parameters(), lr=lr)\n",
    "    # scheduler = optim.lr_scheduler.StepLR(optimizer, step_size=10000, gamma=0.2)\n",
    "    loss_func = nn.CrossEntropyLoss()\n",
    "    for i in range(num_epoch):\n",
    "        optimizer.zero_grad()\n",
    "        pred =model(x_tensor)\n",
    "        loss = loss_func(pred,y_tensor)\n",
    "        loss.backward()\n",
    "        optimizer.step()\n",
    "    print(num_flip,1/(model.fc.weight[1]-model.fc.weight[0]).item(),'time',time.time()-start_time)\n",
    "    print((model.fc.weight[1]-model.fc.weight[0]).item())\n",
    "    width_list.append(1/(model.fc.weight[1]-model.fc.weight[0]).item())\n",
    "\n",
    "            "
   ]
  },
  {
   "cell_type": "code",
   "execution_count": null,
   "metadata": {},
   "outputs": [],
   "source": [
    "plt.plot(num_flip_list,width_list)"
   ]
  }
 ],
 "metadata": {
  "kernelspec": {
   "display_name": "Python 3",
   "language": "python",
   "name": "python3"
  },
  "language_info": {
   "codemirror_mode": {
    "name": "ipython",
    "version": 3
   },
   "file_extension": ".py",
   "mimetype": "text/x-python",
   "name": "python",
   "nbconvert_exporter": "python",
   "pygments_lexer": "ipython3",
   "version": "3.8.5"
  }
 },
 "nbformat": 4,
 "nbformat_minor": 4
}
