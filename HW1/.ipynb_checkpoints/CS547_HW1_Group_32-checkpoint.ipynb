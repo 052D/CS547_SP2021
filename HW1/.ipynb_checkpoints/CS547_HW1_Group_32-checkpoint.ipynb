{
 "cells": [
  {
   "cell_type": "markdown",
   "metadata": {},
   "source": [
    "**CS547 HW1 Group 32**  \n",
    "Yue Cui  \n",
    "Gaoyu Liu"
   ]
  },
  {
   "cell_type": "code",
   "execution_count": 1,
   "metadata": {
    "ExecuteTime": {
     "end_time": "2021-01-31T21:58:36.331940Z",
     "start_time": "2021-01-31T21:58:34.953531Z"
    }
   },
   "outputs": [],
   "source": [
    "import os\n",
    "import numpy as np\n",
    "import pandas as pd\n",
    "import time\n",
    "import random\n",
    "import matplotlib\n",
    "#%matplotlib notebook\n",
    "import matplotlib.pyplot as plt\n",
    "import scipy.stats\n",
    "#from pandas.plotting import autocorrelation_plot\n",
    "import matplotlib.offsetbox as offsetbox\n",
    "from matplotlib.ticker import StrMethodFormatter\n",
    "\n",
    "import imageio\n",
    "import PIL\n",
    "\n",
    "def saver(fname):\n",
    "    plt.savefig(fname+\".png\",bbox_inches=\"tight\")\n",
    "    \n",
    "def legend(pos=\"bottom\",ncol=3,extra=False):\n",
    "    if pos==\"bottom\":\n",
    "        extra = 0.15 if extra else 0\n",
    "        plt.legend(bbox_to_anchor=(0.5,-0.2-extra), loc='upper center',facecolor=\"lightgray\",ncol=ncol)\n",
    "    elif pos==\"side\":\n",
    "        plt.legend(bbox_to_anchor=(1.1,0.5), loc='center left',facecolor=\"lightgray\",ncol=1)\n",
    "        \n",
    "def textbox(txt,fname=None):\n",
    "    plt.figure(figsize=(1,1))\n",
    "    plt.gca().add_artist(offsetbox.AnchoredText(\"\\n\".join(txt), loc=\"center\",prop=dict(size=30)))\n",
    "    plt.axis('off')\n",
    "    if fname is not None:\n",
    "        saver(fname)\n",
    "    plt.show()\n",
    "    plt.close()"
   ]
  },
  {
   "cell_type": "code",
   "execution_count": null,
   "metadata": {},
   "outputs": [],
   "source": []
  },
  {
   "cell_type": "markdown",
   "metadata": {},
   "source": [
    "Given : $\\pi = 3.14$ , $\\alpha = \\frac{3\\pi}{4}\\, rad$\n",
    "$$\n",
    "\\omega = 2\\pi f \\\\\n",
    "f = \\frac{c}{\\lambda}\\\\\n",
    "\\lambda_0=\\theta^2+\\delta\\\\\n",
    "\\Delta\\lambda = \\frac{1}{\\lambda^2}\n",
    "$$\n",
    "\n",
    "$$\n",
    "X_i = X_0 + 10\n",
    "$$"
   ]
  },
  {
   "cell_type": "markdown",
   "metadata": {},
   "source": [
    "# Problem 3"
   ]
  },
  {
   "cell_type": "markdown",
   "metadata": {},
   "source": [
    "Load the data."
   ]
  },
  {
   "cell_type": "code",
   "execution_count": 2,
   "metadata": {
    "ExecuteTime": {
     "end_time": "2021-01-31T21:58:39.344651Z",
     "start_time": "2021-01-31T21:58:39.336049Z"
    }
   },
   "outputs": [],
   "source": [
    "# tries to get local version and then defaults to google drive version\n",
    "def getfile(location_pair, **kwargs):\n",
    "    (loc, gdrive) = location_pair\n",
    "    try:\n",
    "        out = pd.read_csv(loc, **kwargs)\n",
    "    except FileNotFoundError:\n",
    "        print(\"local file not found; accessing Google Drive\")\n",
    "        loc = 'https://drive.google.com/uc?export=download&id=' + \\\n",
    "            gdrive.split('/')[-2]\n",
    "        out = pd.read_csv(loc, **kwargs)\n",
    "    return out"
   ]
  },
  {
   "cell_type": "code",
   "execution_count": 3,
   "metadata": {
    "ExecuteTime": {
     "end_time": "2021-01-31T21:58:42.627190Z",
     "start_time": "2021-01-31T21:58:42.103402Z"
    }
   },
   "outputs": [
    {
     "name": "stdout",
     "output_type": "stream",
     "text": [
      "local file not found; accessing Google Drive\n"
     ]
    }
   ],
   "source": [
    "columns=[\n",
    "\"CIC0\",\n",
    "\"SM1_Dz(Z)\",\n",
    "\"GATS1i\",\n",
    "\"NdsCH\",\n",
    "\"NdssC\",\n",
    "\"MLOGP\",\n",
    "\"LC50\" #response\n",
    "]\n",
    "fname = (\"qsar_fish_toxicity.csv\",\n",
    "         \"https://drive.google.com/file/d/1xd30VCQ2clQPzHDXpDi-VPU6pGTIUmQg/view?usp=sharing\")\n",
    "\n",
    "data_raw = getfile(fname, sep=\";\", names=columns)"
   ]
  },
  {
   "cell_type": "code",
   "execution_count": 4,
   "metadata": {
    "ExecuteTime": {
     "end_time": "2021-01-31T21:58:45.158315Z",
     "start_time": "2021-01-31T21:58:45.141359Z"
    }
   },
   "outputs": [
    {
     "data": {
      "text/html": [
       "<div>\n",
       "<style scoped>\n",
       "    .dataframe tbody tr th:only-of-type {\n",
       "        vertical-align: middle;\n",
       "    }\n",
       "\n",
       "    .dataframe tbody tr th {\n",
       "        vertical-align: top;\n",
       "    }\n",
       "\n",
       "    .dataframe thead th {\n",
       "        text-align: right;\n",
       "    }\n",
       "</style>\n",
       "<table border=\"1\" class=\"dataframe\">\n",
       "  <thead>\n",
       "    <tr style=\"text-align: right;\">\n",
       "      <th></th>\n",
       "      <th>CIC0</th>\n",
       "      <th>SM1_Dz(Z)</th>\n",
       "      <th>GATS1i</th>\n",
       "      <th>NdsCH</th>\n",
       "      <th>NdssC</th>\n",
       "      <th>MLOGP</th>\n",
       "      <th>LC50</th>\n",
       "    </tr>\n",
       "  </thead>\n",
       "  <tbody>\n",
       "    <tr>\n",
       "      <th>0</th>\n",
       "      <td>3.260</td>\n",
       "      <td>0.829</td>\n",
       "      <td>1.676</td>\n",
       "      <td>0</td>\n",
       "      <td>1</td>\n",
       "      <td>1.453</td>\n",
       "      <td>3.770</td>\n",
       "    </tr>\n",
       "    <tr>\n",
       "      <th>1</th>\n",
       "      <td>2.189</td>\n",
       "      <td>0.580</td>\n",
       "      <td>0.863</td>\n",
       "      <td>0</td>\n",
       "      <td>0</td>\n",
       "      <td>1.348</td>\n",
       "      <td>3.115</td>\n",
       "    </tr>\n",
       "    <tr>\n",
       "      <th>2</th>\n",
       "      <td>2.125</td>\n",
       "      <td>0.638</td>\n",
       "      <td>0.831</td>\n",
       "      <td>0</td>\n",
       "      <td>0</td>\n",
       "      <td>1.348</td>\n",
       "      <td>3.531</td>\n",
       "    </tr>\n",
       "    <tr>\n",
       "      <th>3</th>\n",
       "      <td>3.027</td>\n",
       "      <td>0.331</td>\n",
       "      <td>1.472</td>\n",
       "      <td>1</td>\n",
       "      <td>0</td>\n",
       "      <td>1.807</td>\n",
       "      <td>3.510</td>\n",
       "    </tr>\n",
       "    <tr>\n",
       "      <th>4</th>\n",
       "      <td>2.094</td>\n",
       "      <td>0.827</td>\n",
       "      <td>0.860</td>\n",
       "      <td>0</td>\n",
       "      <td>0</td>\n",
       "      <td>1.886</td>\n",
       "      <td>5.390</td>\n",
       "    </tr>\n",
       "  </tbody>\n",
       "</table>\n",
       "</div>"
      ],
      "text/plain": [
       "    CIC0  SM1_Dz(Z)  GATS1i  NdsCH  NdssC  MLOGP   LC50\n",
       "0  3.260      0.829   1.676      0      1  1.453  3.770\n",
       "1  2.189      0.580   0.863      0      0  1.348  3.115\n",
       "2  2.125      0.638   0.831      0      0  1.348  3.531\n",
       "3  3.027      0.331   1.472      1      0  1.807  3.510\n",
       "4  2.094      0.827   0.860      0      0  1.886  5.390"
      ]
     },
     "execution_count": 4,
     "metadata": {},
     "output_type": "execute_result"
    }
   ],
   "source": [
    "data_raw.head()"
   ]
  },
  {
   "cell_type": "code",
   "execution_count": 5,
   "metadata": {
    "ExecuteTime": {
     "end_time": "2021-01-31T21:58:51.312646Z",
     "start_time": "2021-01-31T21:58:51.283724Z"
    }
   },
   "outputs": [
    {
     "data": {
      "text/html": [
       "<div>\n",
       "<style scoped>\n",
       "    .dataframe tbody tr th:only-of-type {\n",
       "        vertical-align: middle;\n",
       "    }\n",
       "\n",
       "    .dataframe tbody tr th {\n",
       "        vertical-align: top;\n",
       "    }\n",
       "\n",
       "    .dataframe thead th {\n",
       "        text-align: right;\n",
       "    }\n",
       "</style>\n",
       "<table border=\"1\" class=\"dataframe\">\n",
       "  <thead>\n",
       "    <tr style=\"text-align: right;\">\n",
       "      <th></th>\n",
       "      <th>CIC0</th>\n",
       "      <th>SM1_Dz(Z)</th>\n",
       "      <th>GATS1i</th>\n",
       "      <th>MLOGP</th>\n",
       "    </tr>\n",
       "  </thead>\n",
       "  <tbody>\n",
       "    <tr>\n",
       "      <th>0</th>\n",
       "      <td>3.260</td>\n",
       "      <td>0.829</td>\n",
       "      <td>1.676</td>\n",
       "      <td>1.453</td>\n",
       "    </tr>\n",
       "    <tr>\n",
       "      <th>1</th>\n",
       "      <td>2.189</td>\n",
       "      <td>0.580</td>\n",
       "      <td>0.863</td>\n",
       "      <td>1.348</td>\n",
       "    </tr>\n",
       "    <tr>\n",
       "      <th>2</th>\n",
       "      <td>2.125</td>\n",
       "      <td>0.638</td>\n",
       "      <td>0.831</td>\n",
       "      <td>1.348</td>\n",
       "    </tr>\n",
       "    <tr>\n",
       "      <th>3</th>\n",
       "      <td>3.027</td>\n",
       "      <td>0.331</td>\n",
       "      <td>1.472</td>\n",
       "      <td>1.807</td>\n",
       "    </tr>\n",
       "    <tr>\n",
       "      <th>4</th>\n",
       "      <td>2.094</td>\n",
       "      <td>0.827</td>\n",
       "      <td>0.860</td>\n",
       "      <td>1.886</td>\n",
       "    </tr>\n",
       "  </tbody>\n",
       "</table>\n",
       "</div>"
      ],
      "text/plain": [
       "    CIC0  SM1_Dz(Z)  GATS1i  MLOGP\n",
       "0  3.260      0.829   1.676  1.453\n",
       "1  2.189      0.580   0.863  1.348\n",
       "2  2.125      0.638   0.831  1.348\n",
       "3  3.027      0.331   1.472  1.807\n",
       "4  2.094      0.827   0.860  1.886"
      ]
     },
     "metadata": {},
     "output_type": "display_data"
    },
    {
     "data": {
      "text/plain": [
       "0    3.770\n",
       "1    3.115\n",
       "2    3.531\n",
       "3    3.510\n",
       "4    5.390\n",
       "Name: LC50, dtype: float64"
      ]
     },
     "metadata": {},
     "output_type": "display_data"
    }
   ],
   "source": [
    "feature, response = [\"CIC0\", \"SM1_Dz(Z)\", \"GATS1i\", \"MLOGP\"], \"LC50\"\n",
    "data=data_raw.copy()\n",
    "X=data[feature]\n",
    "Y=data[response]\n",
    "display(X.head())\n",
    "display(Y.head())"
   ]
  },
  {
   "cell_type": "markdown",
   "metadata": {},
   "source": [
    "## (1) Sklearn"
   ]
  },
  {
   "cell_type": "markdown",
   "metadata": {},
   "source": [
    "**Use sklearn to find the formula (i.e., coefficients) for the linear regression.**"
   ]
  },
  {
   "cell_type": "code",
   "execution_count": 6,
   "metadata": {
    "ExecuteTime": {
     "end_time": "2021-01-31T21:59:02.654233Z",
     "start_time": "2021-01-31T21:59:02.165691Z"
    }
   },
   "outputs": [
    {
     "data": {
      "text/plain": [
       "array([ 0.44750162,  1.22068139, -0.77463965,  0.38310065])"
      ]
     },
     "metadata": {},
     "output_type": "display_data"
    },
    {
     "data": {
      "text/plain": [
       "2.1943526381758236"
      ]
     },
     "metadata": {},
     "output_type": "display_data"
    }
   ],
   "source": [
    "from sklearn.linear_model import LinearRegression\n",
    "reg = LinearRegression().fit(X, Y)\n",
    "coe_sklearn = reg.coef_\n",
    "display(coe_sklearn)\n",
    "intrcpt_slkearn = reg.intercept_\n",
    "display(intrcpt_slkearn)"
   ]
  },
  {
   "cell_type": "code",
   "execution_count": null,
   "metadata": {
    "ExecuteTime": {
     "end_time": "2021-01-31T19:29:56.594380Z",
     "start_time": "2021-01-31T19:29:56.569446Z"
    }
   },
   "outputs": [],
   "source": []
  },
  {
   "cell_type": "markdown",
   "metadata": {},
   "source": [
    "## (2) Numpy Implementation"
   ]
  },
  {
   "cell_type": "markdown",
   "metadata": {},
   "source": [
    "**Derive the explicit formula for multidimensional linear regression and implement it in numpy to get explicit coefficients.**"
   ]
  },
  {
   "cell_type": "markdown",
   "metadata": {},
   "source": [
    "### Implementing the formulus at Page 30 of slides."
   ]
  },
  {
   "cell_type": "code",
   "execution_count": 67,
   "metadata": {
    "ExecuteTime": {
     "end_time": "2021-02-01T03:50:42.051748Z",
     "start_time": "2021-02-01T03:50:42.038783Z"
    }
   },
   "outputs": [
    {
     "data": {
      "text/plain": [
       "array([[0., 0., 0.],\n",
       "       [0., 0., 0.],\n",
       "       [0., 0., 0.]])"
      ]
     },
     "execution_count": 67,
     "metadata": {},
     "output_type": "execute_result"
    }
   ],
   "source": [
    "np.zeros((3,3))\n"
   ]
  },
  {
   "cell_type": "code",
   "execution_count": 7,
   "metadata": {
    "ExecuteTime": {
     "end_time": "2021-01-31T21:59:07.690622Z",
     "start_time": "2021-01-31T21:59:07.663693Z"
    }
   },
   "outputs": [
    {
     "name": "stdout",
     "output_type": "stream",
     "text": [
      "----- Method 1 ------\n",
      "The coefficients of the linear regression model are:\n"
     ]
    },
    {
     "data": {
      "text/plain": [
       "array([ 0.56190758,  1.3960181 , -1.46921776,  0.66190276])"
      ]
     },
     "metadata": {},
     "output_type": "display_data"
    },
    {
     "name": "stdout",
     "output_type": "stream",
     "text": [
      "The intercept of the linear regression model is:\n"
     ]
    },
    {
     "data": {
      "text/plain": [
       "2.0630230188622223"
      ]
     },
     "metadata": {},
     "output_type": "display_data"
    },
    {
     "name": "stdout",
     "output_type": "stream",
     "text": [
      "----- Method 2 ------\n",
      "The coefficients of the linear regression model are:\n"
     ]
    },
    {
     "data": {
      "text/plain": [
       "array([ 0.56190758,  1.3960181 , -1.46921776,  0.66190276])"
      ]
     },
     "metadata": {},
     "output_type": "display_data"
    },
    {
     "name": "stdout",
     "output_type": "stream",
     "text": [
      "The intercept of the linear regression model is:\n"
     ]
    },
    {
     "data": {
      "text/plain": [
       "2.063023018862207"
      ]
     },
     "metadata": {},
     "output_type": "display_data"
    }
   ],
   "source": [
    "# method 1\n",
    "covariance_xy = []\n",
    "variance_x = []\n",
    "for i in range(X.shape[1]):\n",
    "    covariance_xy.append(np.mean(X.iloc[:, i]*Y) - np.mean(X.iloc[:, i])*np.mean(Y))\n",
    "    variance_x.append(np.mean(np.square(X.iloc[:, i])) - np.square(np.mean(X.iloc[:, i])))\n",
    "\n",
    "covariance_xy = np.array(covariance_xy)\n",
    "variance_x = np.array(variance_x)\n",
    "print(f'----- Method 1 ------')\n",
    "print(f'The coefficients of the linear regression model are:')\n",
    "display(covariance_xy/variance_x)\n",
    "print(f'The intercept of the linear regression model is:')\n",
    "display(np.mean(Y) - (np.array(covariance_xy)/np.array(variance_x))@(np.mean(X, axis = 0)))\n",
    "\n",
    "\n",
    "# mothod 2\n",
    "covariance_xy = np.cov(np.array(X).T, np.array(Y).T, bias = True)[:-1, -1]\n",
    "variance_x = np.var(np.array(X), axis = 0)\n",
    "print(f'----- Method 2 ------')\n",
    "print(f'The coefficients of the linear regression model are:')\n",
    "display(c/variance_x)ovariance_xy\n",
    "print(f'The intercept of the linear regression model is:')\n",
    "display(np.mean(Y) - (covariance_xy/variance_x)@(np.mean(X, axis = 0)))"
   ]
  },
  {
   "cell_type": "markdown",
   "metadata": {},
   "source": [
    "### Implementing the normal equation."
   ]
  },
  {
   "cell_type": "code",
   "execution_count": 8,
   "metadata": {
    "ExecuteTime": {
     "end_time": "2021-01-31T21:59:12.968409Z",
     "start_time": "2021-01-31T21:59:12.958435Z"
    }
   },
   "outputs": [
    {
     "name": "stdout",
     "output_type": "stream",
     "text": [
      "----- Method 3 ------\n",
      "The coefficients of the linear regression model are:\n"
     ]
    },
    {
     "data": {
      "text/plain": [
       "array([ 0.44750162,  1.22068139, -0.77463965,  0.38310065])"
      ]
     },
     "metadata": {},
     "output_type": "display_data"
    },
    {
     "name": "stdout",
     "output_type": "stream",
     "text": [
      "The intercept of the linear regression model is:\n"
     ]
    },
    {
     "data": {
      "text/plain": [
       "2.1943526381757947"
      ]
     },
     "metadata": {},
     "output_type": "display_data"
    }
   ],
   "source": [
    "XX = np.hstack([np.array(X), np.array(\n",
    "    [1]*X.shape[0]).reshape((X.shape[0], 1))])\n",
    "m = np.linalg.inv(XX.T@XX)@(XX.T)@(Y)\n",
    "print(f'----- Method 3 ------')\n",
    "print(f'The coefficients of the linear regression model are:')\n",
    "display(m[:-1])\n",
    "print(f'The intercept of the linear regression model is:')\n",
    "display(m[-1])"
   ]
  },
  {
   "cell_type": "code",
   "execution_count": null,
   "metadata": {},
   "outputs": [],
   "source": [
    "array([[ 0.50036638,  1.33880161, -0.28729824,  0.45428217]])"
   ]
  },
  {
   "cell_type": "markdown",
   "metadata": {},
   "source": [
    "## Gradient Descent"
   ]
  },
  {
   "cell_type": "code",
   "execution_count": 10,
   "metadata": {
    "ExecuteTime": {
     "end_time": "2021-01-31T22:13:29.722551Z",
     "start_time": "2021-01-31T22:13:29.699613Z"
    }
   },
   "outputs": [
    {
     "data": {
      "text/html": [
       "<div>\n",
       "<style scoped>\n",
       "    .dataframe tbody tr th:only-of-type {\n",
       "        vertical-align: middle;\n",
       "    }\n",
       "\n",
       "    .dataframe tbody tr th {\n",
       "        vertical-align: top;\n",
       "    }\n",
       "\n",
       "    .dataframe thead th {\n",
       "        text-align: right;\n",
       "    }\n",
       "</style>\n",
       "<table border=\"1\" class=\"dataframe\">\n",
       "  <thead>\n",
       "    <tr style=\"text-align: right;\">\n",
       "      <th></th>\n",
       "      <th>0</th>\n",
       "    </tr>\n",
       "  </thead>\n",
       "  <tbody>\n",
       "    <tr>\n",
       "      <th>0</th>\n",
       "      <td>0.0</td>\n",
       "    </tr>\n",
       "    <tr>\n",
       "      <th>1</th>\n",
       "      <td>0.0</td>\n",
       "    </tr>\n",
       "    <tr>\n",
       "      <th>2</th>\n",
       "      <td>0.0</td>\n",
       "    </tr>\n",
       "    <tr>\n",
       "      <th>3</th>\n",
       "      <td>0.0</td>\n",
       "    </tr>\n",
       "    <tr>\n",
       "      <th>4</th>\n",
       "      <td>0.0</td>\n",
       "    </tr>\n",
       "    <tr>\n",
       "      <th>...</th>\n",
       "      <td>...</td>\n",
       "    </tr>\n",
       "    <tr>\n",
       "      <th>903</th>\n",
       "      <td>0.0</td>\n",
       "    </tr>\n",
       "    <tr>\n",
       "      <th>904</th>\n",
       "      <td>0.0</td>\n",
       "    </tr>\n",
       "    <tr>\n",
       "      <th>905</th>\n",
       "      <td>0.0</td>\n",
       "    </tr>\n",
       "    <tr>\n",
       "      <th>906</th>\n",
       "      <td>0.0</td>\n",
       "    </tr>\n",
       "    <tr>\n",
       "      <th>907</th>\n",
       "      <td>0.0</td>\n",
       "    </tr>\n",
       "  </tbody>\n",
       "</table>\n",
       "<p>908 rows × 1 columns</p>\n",
       "</div>"
      ],
      "text/plain": [
       "       0\n",
       "0    0.0\n",
       "1    0.0\n",
       "2    0.0\n",
       "3    0.0\n",
       "4    0.0\n",
       "..   ...\n",
       "903  0.0\n",
       "904  0.0\n",
       "905  0.0\n",
       "906  0.0\n",
       "907  0.0\n",
       "\n",
       "[908 rows x 1 columns]"
      ]
     },
     "execution_count": 10,
     "metadata": {},
     "output_type": "execute_result"
    }
   ],
   "source": [
    "X@np.zeros([4,1])"
   ]
  },
  {
   "cell_type": "code",
   "execution_count": 101,
   "metadata": {
    "ExecuteTime": {
     "end_time": "2021-02-02T02:52:12.573841Z",
     "start_time": "2021-02-02T02:52:11.810199Z"
    },
    "scrolled": false
   },
   "outputs": [
    {
     "name": "stdout",
     "output_type": "stream",
     "text": [
      "Gradient descent total iterations: 4775\n"
     ]
    },
    {
     "data": {
      "text/plain": [
       "array([[ 0.44750203,  1.22068206, -0.77463854,  0.38310074]])"
      ]
     },
     "metadata": {},
     "output_type": "display_data"
    },
    {
     "data": {
      "text/plain": [
       "2.1943493067181046"
      ]
     },
     "metadata": {},
     "output_type": "display_data"
    },
    {
     "data": {
      "image/png": "[encoded data removed]",
      "text/plain": [
       "<Figure size 432x288 with 1 Axes>"
      ]
     },
     "metadata": {
      "needs_background": "light"
     },
     "output_type": "display_data"
    }
   ],
   "source": [
    "class LinearRegression_multi:\n",
    "    def __init__(self, x, y):\n",
    "        self.xvals = np.array(x)\n",
    "        self.nsamples = self.xvals.shape[0]\n",
    "        self.nvars = self.xvals.shape[1]\n",
    "\n",
    "        self.yvals = np.array(y).reshape((self.nsamples, 1))\n",
    "\n",
    "        self.XXvals = np.hstack(\n",
    "            [self.xvals, np.array(([1]*self.nsamples)).reshape((self.nsamples, 1))])\n",
    "        self.reset()\n",
    "\n",
    "    def reset(self):\n",
    "        self.ctr = 0\n",
    "        self.callbacktext = []\n",
    "        self.p = [np.zeros([self.nvars, 1]), 0.]\n",
    "        self.lr = 0.0001\n",
    "        #self.b = 0.\n",
    "\n",
    "#     def coefficient(self):\n",
    "#         numerator = np.cov(self.xvals.T, self.yvals.T)[:, -1]\n",
    "#         denominator =\n",
    "\n",
    "    @staticmethod\n",
    "    def linear_function(p):\n",
    "        (m, b) = p\n",
    "\n",
    "        def l_f(x):\n",
    "            return x@m + b\n",
    "        return l_f\n",
    "\n",
    "    def Cost(self, p, include_gradient=False):\n",
    "        err = self.yvals-self.linear_function(p)(self.xvals)\n",
    "        cost = np.mean(err**2)\n",
    "        # print(err)\n",
    "        if include_gradient:\n",
    "            out = -2*np.mean(err*self.XXvals, axis=0)\n",
    "            return (cost, out)\n",
    "        else:\n",
    "            return cost\n",
    "\n",
    "    def gradient_descent(self, epochs, p=None, lr=None,\n",
    "                         precision=0.01):\n",
    "        if lr == None:\n",
    "            lr = self.lr\n",
    "        if p == None:\n",
    "            p = self.p\n",
    "        m = p[0]\n",
    "        b = p[1]\n",
    "        step_size = 1.\n",
    "        i = 0\n",
    "        cost_history = np.array([])\n",
    "        m_history = np.array([m])\n",
    "        b_history = np.array([b])\n",
    "        while step_size > precision and i < epochs:\n",
    "            cost, gradient = self.Cost([m, b], True)\n",
    "            cost_history = np.append(cost_history, cost)\n",
    "            m = m - lr*gradient[:-1].reshape((self.nvars, 1))\n",
    "            b = b - lr*gradient[-1]\n",
    "            m_history = np.append(m_history, m.T)\n",
    "            b_history = np.append(b_history, b)\n",
    "            step_size = lr*np.linalg.norm(gradient)\n",
    "            i += 1\n",
    "        #\n",
    "        print(f'Gradient descent total iterations: {i}')\n",
    "        return m.T, b, cost_history, m_history, b_history\n",
    "\n",
    "    def metric(self, p):\n",
    "        (m, b) = p\n",
    "        err = self.yvals-self.linear_function(p)(self.xvals)\n",
    "        return np.mean(np.abs(err))\n",
    "\n",
    "    def callback(self, x, verbose=False):\n",
    "        (m, b) = p\n",
    "        outstr = \"ctr={0:}; (m,b)=({1:.3f},{2:.2E}); error={3:.2E}\".format(\n",
    "            self.ctr, m, b, self.Cost(p))\n",
    "        self.callbacktext.append(outstr)\n",
    "        if verbose:\n",
    "            print(outstr)\n",
    "        self.ctr += 1\n",
    "\n",
    "\n",
    "LR = LinearRegression_multi(X, Y)\n",
    "\n",
    "delta = 0.05\n",
    "m_gd, b_gd, cost_his, m_his, b_his = LR.gradient_descent(10000, lr=delta,\n",
    "                                                         precision=1e-8)\n",
    "display(m_gd)\n",
    "display(b_gd)\n",
    "\n",
    "title = []\n",
    "title.append(\"Cost for Gradient Descent\")\n",
    "title.append(r\"$\\delta={:.2f}$\".format(delta))\n",
    "plt.figure()\n",
    "plt.semilogy(cost_his, 'bo', ms=4)\n",
    "plt.ylabel(\"Cost (logarithmic scale)\")\n",
    "plt.xlabel(\"iteration\")\n",
    "plt.title(\"\\n\".join(title))\n",
    "saver(\"increasing_cost\")\n",
    "plt.show()\n",
    "plt.close()"
   ]
  },
  {
   "cell_type": "code",
   "execution_count": 81,
   "metadata": {
    "ExecuteTime": {
     "end_time": "2021-02-02T02:42:04.330704Z",
     "start_time": "2021-02-02T02:42:04.323381Z"
    }
   },
   "outputs": [
    {
     "data": {
      "text/plain": [
       "array([ 0.44750162,  1.22068139, -0.77463965,  0.38310065,  2.19435264])"
      ]
     },
     "execution_count": 81,
     "metadata": {},
     "output_type": "execute_result"
    }
   ],
   "source": [
    "m"
   ]
  },
  {
   "cell_type": "code",
   "execution_count": null,
   "metadata": {
    "ExecuteTime": {
     "end_time": "2021-02-02T02:30:37.421896Z",
     "start_time": "2021-02-02T02:30:37.409589Z"
    }
   },
   "outputs": [],
   "source": []
  },
  {
   "cell_type": "code",
   "execution_count": null,
   "metadata": {
    "ExecuteTime": {
     "end_time": "2021-02-02T02:35:14.067839Z",
     "start_time": "2021-02-02T02:35:14.057869Z"
    }
   },
   "outputs": [],
   "source": []
  },
  {
   "cell_type": "code",
   "execution_count": null,
   "metadata": {},
   "outputs": [],
   "source": []
  }
 ],
 "metadata": {
  "kernelspec": {
   "display_name": "Python 3.7.9 (tensorflow-gpu)",
   "language": "python",
   "name": "tensorflow"
  },
  "language_info": {
   "codemirror_mode": {
    "name": "ipython",
    "version": 3
   },
   "file_extension": ".py",
   "mimetype": "text/x-python",
   "name": "python",
   "nbconvert_exporter": "python",
   "pygments_lexer": "ipython3",
   "version": "3.7.9"
  },
  "toc": {
   "base_numbering": 1,
   "nav_menu": {},
   "number_sections": true,
   "sideBar": true,
   "skip_h1_title": false,
   "title_cell": "Table of Contents",
   "title_sidebar": "Contents",
   "toc_cell": false,
   "toc_position": {
    "height": "calc(100% - 180px)",
    "left": "10px",
    "top": "150px",
    "width": "246.983px"
   },
   "toc_section_display": true,
   "toc_window_display": true
  },
  "varInspector": {
   "cols": {
    "lenName": 16,
    "lenType": 16,
    "lenVar": 40
   },
   "kernels_config": {
    "python": {
     "delete_cmd_postfix": "",
     "delete_cmd_prefix": "del ",
     "library": "var_list.py",
     "varRefreshCmd": "print(var_dic_list())"
    },
    "r": {
     "delete_cmd_postfix": ") ",
     "delete_cmd_prefix": "rm(",
     "library": "var_list.r",
     "varRefreshCmd": "cat(var_dic_list()) "
    }
   },
   "oldHeight": 248.304808,
   "position": {
    "height": "40px",
    "left": "1207.69px",
    "right": "20px",
    "top": "120px",
    "width": "250px"
   },
   "types_to_exclude": [
    "module",
    "function",
    "builtin_function_or_method",
    "instance",
    "_Feature"
   ],
   "varInspector_section_display": "none",
   "window_display": true
  }
 },
 "nbformat": 4,
 "nbformat_minor": 4
}
