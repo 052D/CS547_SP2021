{
 "cells": [
  {
   "cell_type": "markdown",
   "metadata": {},
   "source": [
    "**CS547 HW1 Group 32**  \n",
    "Yue Cui  \n",
    "Gaoyu Liu\n",
    "\n",
    "Colab link:\n",
    "https://colab.research.google.com/github/052D/CS547_SP2021/blob/main/HW1/CS547_HW1_Group_32.ipynb"
   ]
  },
  {
   "cell_type": "markdown",
   "metadata": {},
   "source": [
    "# Problem 1"
   ]
  },
  {
   "cell_type": "markdown",
   "metadata": {},
   "source": [
    "(1)\n",
    "$$\n",
    "\\nabla f(\\boldsymbol{x})= \\begin{pmatrix} 18x_1 \\\\\n",
    "                            2x_2 \n",
    "                            \\end{pmatrix}\n",
    "$$\n",
    "\n",
    "(2)\n",
    "From fundemantal definition of calculus, we have\n",
    "\n",
    "$$\n",
    "\\boldsymbol{X_t}'=\\frac{d\\boldsymbol{X_t}}{dt}=\\lim_{\\Delta t\\to 0}\\frac{\\boldsymbol{X}_{t+\\Delta t}-\\boldsymbol{X}_{t}}{\\Delta t}=\\lim_{\\delta\\to 0}\\frac{\\boldsymbol{X}_{t+\\delta}-\\boldsymbol{X}_{t}}{\\delta}=\\lim_{\\delta\\to 0}\\frac{\\boldsymbol{x}_{\\lfloor \\frac{t}{\\delta} \\rfloor +1}-\\boldsymbol{x}_{\\lfloor \\frac{t}{\\delta} \\rfloor}}{\\delta}\n",
    "$$\n",
    "\n",
    "Now we have\n",
    "\n",
    "$$\n",
    "\\boldsymbol{x}_{\\lfloor \\frac{t}{\\delta} \\rfloor +1}-\\boldsymbol{x}_{\\lfloor \\frac{t}{\\delta} \\rfloor}=\\boldsymbol{x}_{n+1}-\\boldsymbol{x}_n=-\\delta\\nabla f(\\boldsymbol{x}_n)\n",
    "$$\n",
    "\n",
    "Therefore\n",
    "\n",
    "$$\n",
    "\\boldsymbol{X_t}'=\\lim_{\\delta\\to 0}\\frac{-\\delta\\nabla f(\\boldsymbol{x}_n)}{\\delta}=\\lim_{\\delta\\to 0}-\\nabla f(\\boldsymbol{x}_n)=-\\nabla f(\\boldsymbol{x}_n) \\\\\n",
    "=- \\begin{pmatrix} 18x_1 \\\\\n",
    "            2x_2\n",
    "            \\end{pmatrix}_{\\lfloor t/\\delta \\rfloor} \n",
    "=-\\begin{pmatrix} 18X_1 \\\\\n",
    "            2X_2\n",
    "            \\end{pmatrix}_{t}\n",
    "$$\n",
    "\n",
    "The system of ODE for $\\lim_{\\delta\\to 0}\\boldsymbol{X}_t$ is\n",
    "\n",
    "$$\n",
    "X_1'+18X_1=0 \\\\\n",
    "X_2'+2X_2=0\n",
    "$$\n",
    "\n",
    "(3)\n",
    "Sove the system of ODE\n",
    "\n",
    "$$\n",
    "X_1'+18X_1=0 \\\\\n",
    "\\frac{dX_1}{dt}\\frac{1}{X_1}=-18 \\\\\n",
    "\\frac{1}{X_1}dX_1=-18 dt \\\\\n",
    "\\ln{X_1}=-18t+C_1 \\\\\n",
    "X_1=Ae^{-18t}\n",
    "$$\n",
    "\n",
    "Similarly we have $X_2=Be^{-2t}$. Now substitute the initial condition of $\\boldsymbol{x}_0=\\boldsymbol{X}_0=(1,2)$, we have\n",
    "\n",
    "$$\n",
    "A=1\\\\\n",
    "B=2\n",
    "$$\n",
    "\n",
    "The solution for the ODE is\n",
    "\n",
    "$$\n",
    "X_1=e^{-18t} \\\\\n",
    "X_2=2e^{-2t}\n",
    "$$\n",
    "\n",
    "From the solution of ODE, we can conclude that X converges exponentially to the minimum point of (0,0) from initial point of (1,2) at step 0 when t tends to infinity. This is the minimum converges rate of gradient decent when we choose a step size tending to 0."
   ]
  },
  {
   "cell_type": "markdown",
   "metadata": {},
   "source": [
    "# Problem 2"
   ]
  },
  {
   "cell_type": "markdown",
   "metadata": {},
   "source": [
    "**(1) Explicitly describe the gradient descent iteration $x_{n+1} = x_n − \\delta f′(x_n)$.**"
   ]
  },
  {
   "cell_type": "markdown",
   "metadata": {},
   "source": [
    "First compute the gradient:  \n",
    "\n",
    "$$\n",
    "f′(x_n) = 2 \\lambda x_n\n",
    "$$  \n",
    "\n",
    "Then we have the explicit expression for the gradient descent iteration: \n",
    "\n",
    "$$\n",
    "x_{n+1} = x_n − \\delta f′(x_n) = x_n − 2 \\delta \\lambda x_n \\\\\n",
    "x_{n+1} = (1 - 2 \\delta \\lambda) x_n\n",
    "$$"
   ]
  },
  {
   "cell_type": "markdown",
   "metadata": {},
   "source": [
    "**(2) Describe the stability of gradient descent iteration for different values of $\\delta$.**"
   ]
  },
  {
   "cell_type": "markdown",
   "metadata": {},
   "source": [
    "Regardless of the sign of $x_n$, then the gradient descent is stable, $x_{n+1}$ always tend to approach the optimal point $x = 0$. Hence, $\\|1 - 2 \\lambda \\delta \\| < 1$ should be satisfied.\n",
    "\n",
    "$$\n",
    "\\|1 - 2 \\lambda \\delta \\| < 1 \\\\\n",
    "0 < \\delta < \\frac{1}{\\lambda}, \\lambda > 0.\n",
    "$$\n",
    "\n",
    "Therefore, the gradient descent will be stable when $ 0 < \\delta < \\frac{1}{\\lambda} $ and converges to 0. The gradient descent is unstable and diverges for all other values of $\\delta$."
   ]
  },
  {
   "cell_type": "markdown",
   "metadata": {},
   "source": [
    "# Problem 3"
   ]
  },
  {
   "cell_type": "code",
   "execution_count": 1,
   "metadata": {
    "ExecuteTime": {
     "end_time": "2021-02-07T00:34:41.536508Z",
     "start_time": "2021-02-07T00:34:36.209778Z"
    }
   },
   "outputs": [],
   "source": [
    "import os\n",
    "import numpy as np\n",
    "import pandas as pd\n",
    "from IPython.display import Markdown as md\n",
    "import time\n",
    "import random\n",
    "import matplotlib\n",
    "#%matplotlib notebook\n",
    "import matplotlib.pyplot as plt\n",
    "import scipy.stats\n",
    "#from pandas.plotting import autocorrelation_plot\n",
    "import matplotlib.offsetbox as offsetbox\n",
    "from matplotlib.ticker import StrMethodFormatter\n",
    "\n",
    "import imageio\n",
    "import PIL\n",
    "\n",
    "def saver(fname):\n",
    "    plt.savefig(fname+\".png\",bbox_inches=\"tight\")\n",
    "    \n",
    "def legend(pos=\"bottom\",ncol=3,extra=False):\n",
    "    if pos==\"bottom\":\n",
    "        extra = 0.15 if extra else 0\n",
    "        plt.legend(bbox_to_anchor=(0.5,-0.2-extra), loc='upper center',facecolor=\"lightgray\",ncol=ncol)\n",
    "    elif pos==\"side\":\n",
    "        plt.legend(bbox_to_anchor=(1.1,0.5), loc='center left',facecolor=\"lightgray\",ncol=1)\n",
    "        \n",
    "def textbox(txt,fname=None):\n",
    "    plt.figure(figsize=(1,1))\n",
    "    plt.gca().add_artist(offsetbox.AnchoredText(\"\\n\".join(txt), loc=\"center\",prop=dict(size=30)))\n",
    "    plt.axis('off')\n",
    "    if fname is not None:\n",
    "        saver(fname)\n",
    "    plt.show()\n",
    "    plt.close()"
   ]
  },
  {
   "cell_type": "markdown",
   "metadata": {},
   "source": [
    "Load the data."
   ]
  },
  {
   "cell_type": "code",
   "execution_count": 2,
   "metadata": {
    "ExecuteTime": {
     "end_time": "2021-02-07T00:34:44.770938Z",
     "start_time": "2021-02-07T00:34:44.754679Z"
    }
   },
   "outputs": [],
   "source": [
    "# tries to get local version and then defaults to google drive version\n",
    "def getfile(location_pair, **kwargs):\n",
    "    (loc, gdrive) = location_pair\n",
    "    try:\n",
    "        out = pd.read_csv(loc, **kwargs)\n",
    "    except FileNotFoundError:\n",
    "        print(\"local file not found; accessing Google Drive\")\n",
    "        loc = 'https://drive.google.com/uc?export=download&id=' + \\\n",
    "            gdrive.split('/')[-2]\n",
    "        out = pd.read_csv(loc, **kwargs)\n",
    "    return out"
   ]
  },
  {
   "cell_type": "code",
   "execution_count": 3,
   "metadata": {
    "ExecuteTime": {
     "end_time": "2021-02-07T00:34:48.147641Z",
     "start_time": "2021-02-07T00:34:47.637002Z"
    }
   },
   "outputs": [
    {
     "name": "stdout",
     "output_type": "stream",
     "text": [
      "local file not found; accessing Google Drive\n"
     ]
    }
   ],
   "source": [
    "columns=[\n",
    "\"CIC0\",\n",
    "\"SM1_Dz(Z)\",\n",
    "\"GATS1i\",\n",
    "\"NdsCH\",\n",
    "\"NdssC\",\n",
    "\"MLOGP\",\n",
    "\"LC50\" #response\n",
    "]\n",
    "fname = (\"qsar_fish_toxicity.csv\",\n",
    "         \"https://drive.google.com/file/d/1xd30VCQ2clQPzHDXpDi-VPU6pGTIUmQg/view?usp=sharing\")\n",
    "\n",
    "data_raw = getfile(fname, sep=\";\", names=columns)"
   ]
  },
  {
   "cell_type": "code",
   "execution_count": 4,
   "metadata": {
    "ExecuteTime": {
     "end_time": "2021-02-07T00:34:54.765891Z",
     "start_time": "2021-02-07T00:34:54.752275Z"
    }
   },
   "outputs": [
    {
     "data": {
      "text/html": [
       "<div>\n",
       "<style scoped>\n",
       "    .dataframe tbody tr th:only-of-type {\n",
       "        vertical-align: middle;\n",
       "    }\n",
       "\n",
       "    .dataframe tbody tr th {\n",
       "        vertical-align: top;\n",
       "    }\n",
       "\n",
       "    .dataframe thead th {\n",
       "        text-align: right;\n",
       "    }\n",
       "</style>\n",
       "<table border=\"1\" class=\"dataframe\">\n",
       "  <thead>\n",
       "    <tr style=\"text-align: right;\">\n",
       "      <th></th>\n",
       "      <th>CIC0</th>\n",
       "      <th>SM1_Dz(Z)</th>\n",
       "      <th>GATS1i</th>\n",
       "      <th>NdsCH</th>\n",
       "      <th>NdssC</th>\n",
       "      <th>MLOGP</th>\n",
       "      <th>LC50</th>\n",
       "    </tr>\n",
       "  </thead>\n",
       "  <tbody>\n",
       "    <tr>\n",
       "      <th>0</th>\n",
       "      <td>3.260</td>\n",
       "      <td>0.829</td>\n",
       "      <td>1.676</td>\n",
       "      <td>0</td>\n",
       "      <td>1</td>\n",
       "      <td>1.453</td>\n",
       "      <td>3.770</td>\n",
       "    </tr>\n",
       "    <tr>\n",
       "      <th>1</th>\n",
       "      <td>2.189</td>\n",
       "      <td>0.580</td>\n",
       "      <td>0.863</td>\n",
       "      <td>0</td>\n",
       "      <td>0</td>\n",
       "      <td>1.348</td>\n",
       "      <td>3.115</td>\n",
       "    </tr>\n",
       "    <tr>\n",
       "      <th>2</th>\n",
       "      <td>2.125</td>\n",
       "      <td>0.638</td>\n",
       "      <td>0.831</td>\n",
       "      <td>0</td>\n",
       "      <td>0</td>\n",
       "      <td>1.348</td>\n",
       "      <td>3.531</td>\n",
       "    </tr>\n",
       "    <tr>\n",
       "      <th>3</th>\n",
       "      <td>3.027</td>\n",
       "      <td>0.331</td>\n",
       "      <td>1.472</td>\n",
       "      <td>1</td>\n",
       "      <td>0</td>\n",
       "      <td>1.807</td>\n",
       "      <td>3.510</td>\n",
       "    </tr>\n",
       "    <tr>\n",
       "      <th>4</th>\n",
       "      <td>2.094</td>\n",
       "      <td>0.827</td>\n",
       "      <td>0.860</td>\n",
       "      <td>0</td>\n",
       "      <td>0</td>\n",
       "      <td>1.886</td>\n",
       "      <td>5.390</td>\n",
       "    </tr>\n",
       "  </tbody>\n",
       "</table>\n",
       "</div>"
      ],
      "text/plain": [
       "    CIC0  SM1_Dz(Z)  GATS1i  NdsCH  NdssC  MLOGP   LC50\n",
       "0  3.260      0.829   1.676      0      1  1.453  3.770\n",
       "1  2.189      0.580   0.863      0      0  1.348  3.115\n",
       "2  2.125      0.638   0.831      0      0  1.348  3.531\n",
       "3  3.027      0.331   1.472      1      0  1.807  3.510\n",
       "4  2.094      0.827   0.860      0      0  1.886  5.390"
      ]
     },
     "execution_count": 4,
     "metadata": {},
     "output_type": "execute_result"
    }
   ],
   "source": [
    "data_raw.head()"
   ]
  },
  {
   "cell_type": "code",
   "execution_count": 5,
   "metadata": {
    "ExecuteTime": {
     "end_time": "2021-02-07T00:34:57.759537Z",
     "start_time": "2021-02-07T00:34:57.744388Z"
    }
   },
   "outputs": [
    {
     "data": {
      "text/html": [
       "<div>\n",
       "<style scoped>\n",
       "    .dataframe tbody tr th:only-of-type {\n",
       "        vertical-align: middle;\n",
       "    }\n",
       "\n",
       "    .dataframe tbody tr th {\n",
       "        vertical-align: top;\n",
       "    }\n",
       "\n",
       "    .dataframe thead th {\n",
       "        text-align: right;\n",
       "    }\n",
       "</style>\n",
       "<table border=\"1\" class=\"dataframe\">\n",
       "  <thead>\n",
       "    <tr style=\"text-align: right;\">\n",
       "      <th></th>\n",
       "      <th>CIC0</th>\n",
       "      <th>SM1_Dz(Z)</th>\n",
       "      <th>GATS1i</th>\n",
       "      <th>MLOGP</th>\n",
       "    </tr>\n",
       "  </thead>\n",
       "  <tbody>\n",
       "    <tr>\n",
       "      <th>0</th>\n",
       "      <td>3.260</td>\n",
       "      <td>0.829</td>\n",
       "      <td>1.676</td>\n",
       "      <td>1.453</td>\n",
       "    </tr>\n",
       "    <tr>\n",
       "      <th>1</th>\n",
       "      <td>2.189</td>\n",
       "      <td>0.580</td>\n",
       "      <td>0.863</td>\n",
       "      <td>1.348</td>\n",
       "    </tr>\n",
       "    <tr>\n",
       "      <th>2</th>\n",
       "      <td>2.125</td>\n",
       "      <td>0.638</td>\n",
       "      <td>0.831</td>\n",
       "      <td>1.348</td>\n",
       "    </tr>\n",
       "    <tr>\n",
       "      <th>3</th>\n",
       "      <td>3.027</td>\n",
       "      <td>0.331</td>\n",
       "      <td>1.472</td>\n",
       "      <td>1.807</td>\n",
       "    </tr>\n",
       "    <tr>\n",
       "      <th>4</th>\n",
       "      <td>2.094</td>\n",
       "      <td>0.827</td>\n",
       "      <td>0.860</td>\n",
       "      <td>1.886</td>\n",
       "    </tr>\n",
       "  </tbody>\n",
       "</table>\n",
       "</div>"
      ],
      "text/plain": [
       "    CIC0  SM1_Dz(Z)  GATS1i  MLOGP\n",
       "0  3.260      0.829   1.676  1.453\n",
       "1  2.189      0.580   0.863  1.348\n",
       "2  2.125      0.638   0.831  1.348\n",
       "3  3.027      0.331   1.472  1.807\n",
       "4  2.094      0.827   0.860  1.886"
      ]
     },
     "metadata": {},
     "output_type": "display_data"
    },
    {
     "data": {
      "text/plain": [
       "0    3.770\n",
       "1    3.115\n",
       "2    3.531\n",
       "3    3.510\n",
       "4    5.390\n",
       "Name: LC50, dtype: float64"
      ]
     },
     "metadata": {},
     "output_type": "display_data"
    }
   ],
   "source": [
    "feature, response = [\"CIC0\", \"SM1_Dz(Z)\", \"GATS1i\", \"MLOGP\"], \"LC50\"\n",
    "data=data_raw.copy()\n",
    "X=data[feature]\n",
    "Y=data[response]\n",
    "display(X.head())\n",
    "display(Y.head())"
   ]
  },
  {
   "cell_type": "markdown",
   "metadata": {},
   "source": [
    "## (1) Sklearn"
   ]
  },
  {
   "cell_type": "markdown",
   "metadata": {},
   "source": [
    "**Use sklearn to find the formula (i.e., coefficients) for the linear regression.**"
   ]
  },
  {
   "cell_type": "code",
   "execution_count": 6,
   "metadata": {
    "ExecuteTime": {
     "end_time": "2021-02-07T00:35:09.924631Z",
     "start_time": "2021-02-07T00:35:08.506504Z"
    }
   },
   "outputs": [
    {
     "data": {
      "text/plain": [
       "array([ 0.44750162,  1.22068139, -0.77463965,  0.38310065])"
      ]
     },
     "metadata": {},
     "output_type": "display_data"
    },
    {
     "data": {
      "text/plain": [
       "2.1943526381758236"
      ]
     },
     "metadata": {},
     "output_type": "display_data"
    }
   ],
   "source": [
    "from sklearn.linear_model import LinearRegression\n",
    "reg = LinearRegression().fit(X, Y)\n",
    "coe_sklearn = reg.coef_\n",
    "display(coe_sklearn)\n",
    "intrcpt_slkearn = reg.intercept_\n",
    "display(intrcpt_slkearn)"
   ]
  },
  {
   "cell_type": "markdown",
   "metadata": {
    "ExecuteTime": {
     "end_time": "2021-02-05T02:49:34.993633Z",
     "start_time": "2021-02-05T02:49:34.986793Z"
    }
   },
   "source": [
    "The expression of the linear regression is  \n",
    "**LC50 = 0.4475 $\\times$ CIC0 + 1.2207 $\\times$ SM1 Dz(Z) - 0.7746 $\\times$ GATS1i + 0.3831 $\\times$ MLOGP + 2.1944**"
   ]
  },
  {
   "cell_type": "markdown",
   "metadata": {},
   "source": [
    "## (2) Numpy Implementation"
   ]
  },
  {
   "cell_type": "markdown",
   "metadata": {},
   "source": [
    "**Derive the explicit formula for multidimensional linear regression and implement it in numpy to get explicit coefficients.**"
   ]
  },
  {
   "cell_type": "markdown",
   "metadata": {},
   "source": [
    "### Implementing the normal equation."
   ]
  },
  {
   "cell_type": "markdown",
   "metadata": {},
   "source": [
    "When there are more than one varibale as input $x$ in the linear regression, we have the design matrix $X_{n \\times (p+1)}$ , where $n$ is the number of the training samples and $p$ is the number of the variables considered in the linear regression model. Each training same is a row in the design matrix. The additional column in the design matrix is $1$'s to account for the intercept of the linear regression. Thus, we have parameter vector $P_{(p+1) \\times 1} = \\left ( m^T, b \\right)^T$. In summary, the linear regression model should look like  \n",
    "$$\n",
    "y_n = X_{n \\times (p+1)} \\   P_{(p+1) \\times 1}\n",
    "$$\n",
    "To obtain the optimal parameters $P^*$ of the linear regression model, one can compute the mean squared error (MSE) of the predicted $y_n$ and the ground truth $y_{train}$, which is\n",
    "$$\n",
    "\\Lambda(P) = \\frac{1}{n} \\sum_{i = 1}^{N} \\left ( y_{train,\\ i} -   X_{i} \\  P_{(p+1) \\times 1} \\  \\right )^2\n",
    "$$\n",
    "Take the derivative of the MSE $\\Lambda(P)$ with respect to the parameters $P$ and make it equal to $0$, the solution of which is the solution for the multivariate linear regression.\n",
    "$$\n",
    "\\nabla_{P} \\  \\Lambda(P) = 0 \\\\\n",
    "\\nabla_{P} \\ \\left(y_{train} -   X P \\  \\right)^T \\left(y_{train} -   X  P \\  \\right) = 0 \\\\\n",
    "2 X^T X P - 2 X^T y_{train} = 0 \\\\\n",
    "P = \\left(X^T X \\right)^{-1} X^T y_{train}\n",
    "$$\n",
    "The Pyhton implementation of the normal equation is shown in the cell below."
   ]
  },
  {
   "cell_type": "code",
   "execution_count": 7,
   "metadata": {
    "ExecuteTime": {
     "end_time": "2021-02-07T00:35:16.552980Z",
     "start_time": "2021-02-07T00:35:16.540015Z"
    }
   },
   "outputs": [
    {
     "name": "stdout",
     "output_type": "stream",
     "text": [
      "----- Method 1 ------\n",
      "The coefficients of the linear regression model are:\n"
     ]
    },
    {
     "data": {
      "text/plain": [
       "array([ 0.44750162,  1.22068139, -0.77463965,  0.38310065])"
      ]
     },
     "metadata": {},
     "output_type": "display_data"
    },
    {
     "name": "stdout",
     "output_type": "stream",
     "text": [
      "The intercept of the linear regression model is:\n"
     ]
    },
    {
     "data": {
      "text/plain": [
       "2.1943526381757947"
      ]
     },
     "metadata": {},
     "output_type": "display_data"
    }
   ],
   "source": [
    "XX = np.hstack([np.array(X), np.array(\n",
    "    [1]*X.shape[0]).reshape((X.shape[0], 1))])\n",
    "m = np.linalg.inv(XX.T@XX)@(XX.T)@(Y)\n",
    "print(f'----- Method 1 ------')\n",
    "print(f'The coefficients of the linear regression model are:')\n",
    "display(m[:-1])\n",
    "print(f'The intercept of the linear regression model is:')\n",
    "display(m[-1])"
   ]
  },
  {
   "cell_type": "markdown",
   "metadata": {},
   "source": [
    "The results are same as (1):  \n",
    "**LC50 = 0.4475 $\\times$ CIC0 + 1.2207 $\\times$ SM1 Dz(Z) - 0.7746 $\\times$ GATS1i + 0.3831 $\\times$ MLOGP + 2.1944**"
   ]
  },
  {
   "cell_type": "markdown",
   "metadata": {},
   "source": [
    "## (3) Gradient Descent"
   ]
  },
  {
   "cell_type": "markdown",
   "metadata": {
    "ExecuteTime": {
     "end_time": "2021-01-31T22:13:29.722551Z",
     "start_time": "2021-01-31T22:13:29.699613Z"
    }
   },
   "source": [
    "The gradient decent is implemented in the cell below.  \n",
    "\n",
    "More specifically, a class named **LinearRegression_multi** is defined to get multivariate linear regression models. The method **gradient_descent** in the class conducts the gradient decent inparticular.\n",
    "\n",
    "For each iteration of the gradient descent, all training data are used (1 epoch). The cost, i.e. the difference between the predicted $y$ and the ground truth $y_{train}$, \n",
    "$$\n",
    "\\epsilon_i(P) \\  = \\  y_{train,\\ i} \\  - \\   X_{i}  P\n",
    "$$\n",
    "as well as the gradient of the cost fucntion $\\Lambda(P)$ with respect to the learning rate $\\delta$ at $\\delta = 0$ \n",
    "$$\n",
    "\\nabla\\Lambda (P) \\  = \\  -\\frac{2}{n} \\sum_{i = 1}^{n} \\epsilon_i(P) X_{i}\n",
    "$$\n",
    "is computed in the function **Cost**. \n",
    "\n",
    "The parameters $P$ is then updated by $\\delta$ and the computed gradient $\\nabla\\Lambda (P)$:\n",
    "$$\n",
    "P_{i + 1} = P_i - \\delta \\nabla\\Lambda (P)\n",
    "$$\n",
    "where $i$ is the iteration step number. \n",
    "\n",
    "The number of the iterations for the gradient descent is controlled by two factors: (1) maximum allowable number of iterations; (2) the gradient step L2 norm $\\| \\nabla\\Lambda (P) \\|^2$. Both factors are compared with the input tolerance during each iteration.  \n",
    "\n",
    "The detailed Python implementation is presented below, as well as the computed optimal parameters $P$."
   ]
  },
  {
   "cell_type": "code",
   "execution_count": 8,
   "metadata": {
    "ExecuteTime": {
     "end_time": "2021-02-07T00:35:24.213283Z",
     "start_time": "2021-02-07T00:35:24.188133Z"
    },
    "scrolled": false
   },
   "outputs": [],
   "source": [
    "class LinearRegression_multi:\n",
    "    def __init__(self, x, y):\n",
    "        self.xvals = np.array(x)\n",
    "        self.nsamples = self.xvals.shape[0]\n",
    "        self.nvars = self.xvals.shape[1]\n",
    "\n",
    "        self.yvals = np.array(y).reshape((self.nsamples, 1))\n",
    "\n",
    "        self.XXvals = np.hstack(\n",
    "            [self.xvals, np.array(([1]*self.nsamples)).reshape((self.nsamples, 1))])\n",
    "        self.reset()\n",
    "\n",
    "    def reset(self):\n",
    "        self.ctr = 0\n",
    "        self.callbacktext = []\n",
    "        self.p = [np.zeros([self.nvars, 1]), 0.]\n",
    "        self.lr = 0.0001\n",
    "        #self.b = 0.\n",
    "\n",
    "    @staticmethod\n",
    "    def linear_function(p):\n",
    "        (m, b) = p\n",
    "\n",
    "        def l_f(x):\n",
    "            return x@m + b\n",
    "        return l_f\n",
    "\n",
    "    def Cost(self, p, include_gradient=False):\n",
    "        err = self.yvals-self.linear_function(p)(self.xvals)\n",
    "        cost = np.mean(err**2)\n",
    "        # print(err)\n",
    "        if include_gradient:\n",
    "            out = -2*np.mean(err*self.XXvals, axis=0)\n",
    "            return (cost, out)\n",
    "        else:\n",
    "            return cost\n",
    "\n",
    "    def gradient_descent(self, epochs, p=None, lr=None,\n",
    "                         precision=0.01):\n",
    "        if lr == None:\n",
    "            lr = self.lr\n",
    "        if p == None:\n",
    "            p = self.p\n",
    "        m = p[0]\n",
    "        b = p[1]\n",
    "        step_size = 1.\n",
    "        i = 0\n",
    "        cost_history = np.array([])\n",
    "        m_history = np.array([m])\n",
    "        b_history = np.array([b])\n",
    "        while step_size > precision and i < epochs:\n",
    "            cost, gradient = self.Cost([m, b], True)\n",
    "            cost_history = np.append(cost_history, cost)\n",
    "            m = m - lr*gradient[:-1].reshape((self.nvars, 1))\n",
    "            b = b - lr*gradient[-1]\n",
    "            m_history = np.append(m_history, m.T)\n",
    "            b_history = np.append(b_history, b)\n",
    "            step_size = np.linalg.norm(gradient)\n",
    "            i += 1\n",
    "        #\n",
    "        print(f'Gradient descent total iterations: {i}')\n",
    "        return m.T, b, cost_history, m_history, b_history\n",
    "\n",
    "    def metric(self, p):\n",
    "        (m, b) = p\n",
    "        err = self.yvals-self.linear_function(p)(self.xvals)\n",
    "        return np.mean(np.abs(err))\n",
    "\n",
    "    def callback(self, x, verbose=False):\n",
    "        (m, b) = p\n",
    "        outstr = \"ctr={0:}; (m,b)=({1:.3f},{2:.2E}); error={3:.2E}\".format(\n",
    "            self.ctr, m, b, self.Cost(p))\n",
    "        self.callbacktext.append(outstr)\n",
    "        if verbose:\n",
    "            print(outstr)\n",
    "        self.ctr += 1\n",
    "\n",
    "\n"
   ]
  },
  {
   "cell_type": "markdown",
   "metadata": {
    "ExecuteTime": {
     "end_time": "2021-02-05T02:58:13.859889Z",
     "start_time": "2021-02-05T02:58:13.842932Z"
    }
   },
   "source": [
    "Now carry out the gradient descent for the linear regration given the $X$ and $y$ data. The maximum iteration number is set to be 10000. The tolerance for the L2 norm of the gradient update step size is $10^{-10}$. By trying several different learning rate or $\\delta$, it was found that $\\delta = 0.05$ could be a good choice with stable condition and reseaonable number of iterations."
   ]
  },
  {
   "cell_type": "code",
   "execution_count": 9,
   "metadata": {
    "ExecuteTime": {
     "end_time": "2021-02-07T00:35:28.721134Z",
     "start_time": "2021-02-07T00:35:27.386615Z"
    }
   },
   "outputs": [
    {
     "name": "stdout",
     "output_type": "stream",
     "text": [
      "Gradient descent total iterations: 7521\n"
     ]
    },
    {
     "data": {
      "text/plain": [
       "array([[ 0.44750162,  1.22068139, -0.77463965,  0.38310065]])"
      ]
     },
     "metadata": {},
     "output_type": "display_data"
    },
    {
     "data": {
      "text/plain": [
       "2.1943526365103576"
      ]
     },
     "metadata": {},
     "output_type": "display_data"
    },
    {
     "data": {
      "image/png": "[encoded data removed]",
      "text/plain": [
       "<Figure size 432x288 with 1 Axes>"
      ]
     },
     "metadata": {
      "needs_background": "light"
     },
     "output_type": "display_data"
    }
   ],
   "source": [
    "LR = LinearRegression_multi(X, Y)\n",
    "\n",
    "delta = 0.05\n",
    "m_gd, b_gd, cost_his, m_his, b_his = LR.gradient_descent(10000, lr=delta,\n",
    "                                                         precision=1e-10)\n",
    "display(m_gd)\n",
    "display(b_gd)\n",
    "\n",
    "title = []\n",
    "title.append(\"Cost for Gradient Descent\")\n",
    "title.append(r\"$\\delta={:.2f}$\".format(delta))\n",
    "plt.figure()\n",
    "plt.semilogy(cost_his, 'bo', ms=4)\n",
    "plt.ylabel(\"Cost (logarithmic scale)\")\n",
    "plt.xlabel(\"iteration\")\n",
    "plt.title(\"\\n\".join(title))\n",
    "saver(\"increasing_cost\")\n",
    "plt.show()\n",
    "plt.close()"
   ]
  },
  {
   "cell_type": "markdown",
   "metadata": {
    "ExecuteTime": {
     "end_time": "2021-02-02T02:35:14.067839Z",
     "start_time": "2021-02-02T02:35:14.057869Z"
    }
   },
   "source": [
    "The results agree with (1) and (2):  \n",
    "**LC50 = 0.4475 $\\times$ CIC0 + 1.2207 $\\times$ SM1 Dz(Z) - 0.7746 $\\times$ GATS1i + 0.3831 $\\times$ MLOGP + 2.1944**"
   ]
  },
  {
   "cell_type": "markdown",
   "metadata": {},
   "source": []
  }
 ],
 "metadata": {
  "kernelspec": {
   "display_name": "Python 3.7.9 (tensorflow-gpu)",
   "language": "python",
   "name": "tensorflow"
  },
  "language_info": {
   "codemirror_mode": {
    "name": "ipython",
    "version": 3
   },
   "file_extension": ".py",
   "mimetype": "text/x-python",
   "name": "python",
   "nbconvert_exporter": "python",
   "pygments_lexer": "ipython3",
   "version": "3.7.9"
  },
  "toc": {
   "base_numbering": 1,
   "nav_menu": {},
   "number_sections": true,
   "sideBar": true,
   "skip_h1_title": false,
   "title_cell": "Table of Contents",
   "title_sidebar": "Contents",
   "toc_cell": false,
   "toc_position": {
    "height": "calc(100% - 180px)",
    "left": "10px",
    "top": "150px",
    "width": "246.983px"
   },
   "toc_section_display": true,
   "toc_window_display": true
  },
  "varInspector": {
   "cols": {
    "lenName": 16,
    "lenType": 16,
    "lenVar": 40
   },
   "kernels_config": {
    "python": {
     "delete_cmd_postfix": "",
     "delete_cmd_prefix": "del ",
     "library": "var_list.py",
     "varRefreshCmd": "print(var_dic_list())"
    },
    "r": {
     "delete_cmd_postfix": ") ",
     "delete_cmd_prefix": "rm(",
     "library": "var_list.r",
     "varRefreshCmd": "cat(var_dic_list()) "
    }
   },
   "oldHeight": 248.304808,
   "position": {
    "height": "40px",
    "left": "1207.69px",
    "right": "20px",
    "top": "120px",
    "width": "250px"
   },
   "types_to_exclude": [
    "module",
    "function",
    "builtin_function_or_method",
    "instance",
    "_Feature"
   ],
   "varInspector_section_display": "none",
   "window_display": true
  }
 },
 "nbformat": 4,
 "nbformat_minor": 4
}
