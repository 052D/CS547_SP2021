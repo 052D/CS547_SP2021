{
 "cells": [
  {
   "cell_type": "markdown",
   "metadata": {},
   "source": [
    "1.\n",
    "$$ \n",
    "f(m)=e^{\\pi\\cos(2mx)} \\\\\n",
    "\\frac{\\partial f(m)}{\\partial m}= -2 \\pi x \\sin (2mx) e^{\\pi\\cos(2mx)}\n",
    "$$\n",
    "substitute x=5 and m=10, we have\n",
    "$$\n",
    "f'(10)=-10 \\pi \\sin(100) e^{\\pi\\cos(100)}= 238.8589841\n",
    "$$"
   ]
  },
  {
   "cell_type": "markdown",
   "metadata": {},
   "source": [
    "2\n",
    "$$\n",
    "\\phi_1=\\cos(2x) \\quad \\phi_2=\\cos(4x) \\quad \\phi_3=\\cos(8x) \\quad L=e^{\\pi x}\\\\\n",
    "\\phi_1'=-2\\sin(2x) \\quad \\phi_2'=-4\\sin(4x) \\quad \\phi_3'=-8\\sin(8x) \\quad L'=\\pi e^{\\pi x}\n",
    "$$\n",
    "\n",
    "Now compute $a_n$\n",
    "\n",
    "$$\n",
    "a_1=m_1 x=10\\times 5=50 \\quad a_2=m_2 \\phi_1(a_1)=9\\cos(100)=7.76087 \\quad a_3=m_3\\phi_2(a_2)=8\\cos(4a_2)=7.451517\n",
    "$$\n",
    "\n",
    "Compute $\\delta_n$\n",
    "\n",
    "$$\n",
    "\\delta_3=L'(\\phi_3(a3))\\phi_3'(a3)=\\pi e^{\\pi \\cos(8a_3)}\\times -8\\sin(8 a_3)=-8 \\pi\\sin(8 a_3) e^{\\pi \\cos(8a_3)}=-0.08557955 \\\\\n",
    "\\delta_2=\\delta_3 m_3\\phi_2'(a_2)=-32\\delta_3\\sin(4a_2)=-0.9965439 \\\\\n",
    "\\delta_1=\\delta_2 m_2\\phi_1'(a_1)=-18\\delta_2\\sin(2a_1)=-9.083080635\n",
    "$$"
   ]
  },
  {
   "cell_type": "markdown",
   "metadata": {},
   "source": [
    "2(a)\n",
    "$$\n",
    "\\frac{\\partial f_5}{\\partial m_3}(10,9,8)=\\delta_3\\phi_2(a_2)=\\delta_3\\cos(4a_2)=-0.0797122\n",
    "$$"
   ]
  },
  {
   "cell_type": "markdown",
   "metadata": {},
   "source": [
    "2(b)\n",
    "$$\n",
    "\\frac{\\partial f_5}{\\partial m_2}(10,9,8)=\\delta_2\\phi_1(a_1)=\\delta_2\\cos(2a_1)=-0.8593386\n",
    "$$"
   ]
  },
  {
   "cell_type": "markdown",
   "metadata": {},
   "source": [
    "2(c)\n",
    "$$\n",
    "\\frac{\\partial f_5}{\\partial m_1}(10,9,8)=\\delta_1 x=5\\delta_1=-45.4154\n",
    "$$"
   ]
  },
  {
   "cell_type": "markdown",
   "metadata": {},
   "source": [
    "3 $\\phi_n$ is defined the same as question 2. Now compute $a_n$\n",
    "\n",
    "$$\n",
    "a_1=m_1 x+b_1=10\\times 5+11=61 \\quad a_2=m_2 \\phi_1(a_1)+b_2=9\\cos(122)+19=11.199096 \\quad a_3=m_3\\phi_2(a_2)+b_3=8\\cos(4a_2)+18=23.49226\n",
    "$$\n",
    "\n",
    "Compute $\\delta_n$\n",
    "\n",
    "$$\n",
    "\\delta_3=L'(\\phi_3(a3))\\phi_3'(a3)=\\pi e^{\\pi \\cos(8a_3)}\\times -8\\sin(8 a_3)=-8 \\pi\\sin(8 a_3) e^{\\pi \\cos(8a_3)}=191.22014 \\\\\n",
    "\\delta_2=\\delta_3 m_3\\phi_2'(a_2)=-32\\delta_3\\sin(4a_2)=-4449.151142 \\\\\n",
    "\\delta_1=\\delta_2 m_2\\phi_1'(a_1)=-18\\delta_2\\sin(2a_1)=39939.30357\n",
    "$$"
   ]
  },
  {
   "cell_type": "markdown",
   "metadata": {},
   "source": [
    "3(a)\n",
    "$$\n",
    "\\frac{\\partial f_5}{\\partial m_3}(10,11,9,19,8,18)=\\delta_3\\phi_2(a_2)=\\delta_3\\cos(4a_2)=131.2788657\n",
    "$$"
   ]
  },
  {
   "cell_type": "markdown",
   "metadata": {},
   "source": [
    "3(b)\n",
    "$$\n",
    "\\frac{\\partial f_5}{\\partial m_2}(10,11,9,19,8,18)=\\delta_2\\phi_1(a_1)=\\delta_2\\cos(2a_1)=3856.377793\n",
    "$$"
   ]
  },
  {
   "cell_type": "markdown",
   "metadata": {},
   "source": [
    "3(c)\n",
    "$$\n",
    "\\frac{\\partial f_5}{\\partial m_1}(10,11,9,19,8,18)=\\delta_1 x=5\\delta_1=199696.5179\n",
    "$$"
   ]
  },
  {
   "cell_type": "code",
   "execution_count": null,
   "metadata": {},
   "outputs": [],
   "source": []
  }
 ],
 "metadata": {
  "kernelspec": {
   "display_name": "Python 3",
   "language": "python",
   "name": "python3"
  },
  "language_info": {
   "codemirror_mode": {
    "name": "ipython",
    "version": 3
   },
   "file_extension": ".py",
   "mimetype": "text/x-python",
   "name": "python",
   "nbconvert_exporter": "python",
   "pygments_lexer": "ipython3",
   "version": "3.7.9"
  },
  "toc": {
   "base_numbering": 1,
   "nav_menu": {},
   "number_sections": true,
   "sideBar": true,
   "skip_h1_title": false,
   "title_cell": "Table of Contents",
   "title_sidebar": "Contents",
   "toc_cell": false,
   "toc_position": {},
   "toc_section_display": true,
   "toc_window_display": false
  },
  "varInspector": {
   "cols": {
    "lenName": 16,
    "lenType": 16,
    "lenVar": 40
   },
   "kernels_config": {
    "python": {
     "delete_cmd_postfix": "",
     "delete_cmd_prefix": "del ",
     "library": "var_list.py",
     "varRefreshCmd": "print(var_dic_list())"
    },
    "r": {
     "delete_cmd_postfix": ") ",
     "delete_cmd_prefix": "rm(",
     "library": "var_list.r",
     "varRefreshCmd": "cat(var_dic_list()) "
    }
   },
   "types_to_exclude": [
    "module",
    "function",
    "builtin_function_or_method",
    "instance",
    "_Feature"
   ],
   "window_display": false
  }
 },
 "nbformat": 4,
 "nbformat_minor": 4
}
